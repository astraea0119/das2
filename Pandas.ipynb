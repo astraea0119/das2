{
 "cells": [
  {
   "cell_type": "markdown",
   "id": "72b893df",
   "metadata": {},
   "source": [
    "# Pandas"
   ]
  },
  {
   "cell_type": "markdown",
   "id": "f21c7e33",
   "metadata": {},
   "source": [
    "### 자료구조: Seires와 Dataframe\n",
    "Pandas에서 제공하는 데이터 자료구조는 Series와 Dataframe 두가지가 존재하는데 Series는 시계열과 유사한 데이터로서 index와 value가 존재하고 Dataframe은 딕셔너리데이터를 매트릭스 형태로 만들어 준 것 같은 frame을 가지고 있다. 이런 데이터 구조를 통해 시계열, 비시계열 데이터를 통합하여 다룰 수 있다."
   ]
  },
  {
   "cell_type": "markdown",
   "id": "85fe2f14",
   "metadata": {},
   "source": [
    "### Series.\n"
   ]
  },
  {
   "cell_type": "code",
   "execution_count": 1,
   "id": "e4857e67",
   "metadata": {},
   "outputs": [],
   "source": [
    "#이부분을 진행 할때 pasdas가 없다고 오류가 나면 아래 명령을 실행한다. \n",
    "\n",
    "#!pip3 install pandas"
   ]
  },
  {
   "cell_type": "code",
   "execution_count": 2,
   "id": "8e0f3e90",
   "metadata": {},
   "outputs": [],
   "source": [
    "import pandas as pd\n",
    "from pandas import Series, DataFrame"
   ]
  },
  {
   "cell_type": "code",
   "execution_count": 3,
   "id": "8a7dc599",
   "metadata": {},
   "outputs": [],
   "source": [
    "fruit=Series([2500,3800,1200,6000],index=['apple','banana','pear','cherry'])"
   ]
  },
  {
   "cell_type": "code",
   "execution_count": 4,
   "id": "3c0834ff",
   "metadata": {},
   "outputs": [
    {
     "data": {
      "text/plain": [
       "apple     2500\n",
       "banana    3800\n",
       "pear      1200\n",
       "cherry    6000\n",
       "dtype: int64"
      ]
     },
     "execution_count": 4,
     "metadata": {},
     "output_type": "execute_result"
    }
   ],
   "source": [
    "fruit"
   ]
  },
  {
   "cell_type": "code",
   "execution_count": 5,
   "id": "10aaacbb",
   "metadata": {},
   "outputs": [
    {
     "name": "stdout",
     "output_type": "stream",
     "text": [
      "[2500 3800 1200 6000]\n"
     ]
    }
   ],
   "source": [
    "print(fruit.values) #위 생성된 시리즈 중에 값만 도출"
   ]
  },
  {
   "cell_type": "code",
   "execution_count": 6,
   "id": "1c8a8bd9",
   "metadata": {},
   "outputs": [
    {
     "name": "stdout",
     "output_type": "stream",
     "text": [
      "Index(['apple', 'banana', 'pear', 'cherry'], dtype='object')\n"
     ]
    }
   ],
   "source": [
    "print(fruit.index) #위 생성된 시리즈 중에 색인만 도출"
   ]
  },
  {
   "cell_type": "code",
   "execution_count": 7,
   "id": "6b58b02e",
   "metadata": {},
   "outputs": [],
   "source": [
    "fruitData={'apple':2500,'banana':3800,'paer':1200, 'cherry':6000} #딕셔너리타입\n",
    "fruit=Series(fruitData) #시리즈객체"
   ]
  },
  {
   "cell_type": "code",
   "execution_count": 8,
   "id": "5cbe2332",
   "metadata": {},
   "outputs": [
    {
     "name": "stdout",
     "output_type": "stream",
     "text": [
      "<class 'dict'>\n",
      "<class 'pandas.core.series.Series'>\n"
     ]
    }
   ],
   "source": [
    "print(type(fruitData))\n",
    "print(type(fruit)) \n",
    "#판다스는 마지막명령어만 도출하기때문에 다수의 결과를 얻기위해서는 print를 감싸줘야함"
   ]
  },
  {
   "cell_type": "markdown",
   "id": "c328be01",
   "metadata": {},
   "source": [
    "해석\n",
    "print(type(fruitData)) = <class 'dict'> =사전형 <p>\n",
    "print(type(fruit))=<class 'pandas.core.series.Series'> 판다스 코어 밑의 시리즈객체이다."
   ]
  },
  {
   "cell_type": "code",
   "execution_count": 9,
   "id": "8e9b1ad7",
   "metadata": {},
   "outputs": [],
   "source": [
    "#각 데이터 객체의 이름설정하기\n",
    "fruit.name='fruitPrice' #시리즈객체의 이름\n",
    "fruit.index.name='fruitName' #색인의 이름"
   ]
  },
  {
   "cell_type": "code",
   "execution_count": 10,
   "id": "2cdb250f",
   "metadata": {},
   "outputs": [
    {
     "data": {
      "text/plain": [
       "fruitName\n",
       "apple     2500\n",
       "banana    3800\n",
       "paer      1200\n",
       "cherry    6000\n",
       "Name: fruitPrice, dtype: int64"
      ]
     },
     "execution_count": 10,
     "metadata": {},
     "output_type": "execute_result"
    }
   ],
   "source": [
    "fruit # 결과확인"
   ]
  },
  {
   "cell_type": "markdown",
   "id": "e46ba7a9",
   "metadata": {},
   "source": [
    "## 데이터프레임"
   ]
  },
  {
   "cell_type": "code",
   "execution_count": 11,
   "id": "87c5e4d1",
   "metadata": {},
   "outputs": [],
   "source": [
    "fruitData= {'fruitName': ['apple','banana','cherry','pear'],\n",
    "            'fruitPrice': [2500,3800,6000,1200],\n",
    "            'num': [10,5,3,8] }\n",
    "# 배 두에 심표 뺴먹어서 2시간 걸린건 레전드"
   ]
  },
  {
   "cell_type": "code",
   "execution_count": 12,
   "id": "9ccc03d0",
   "metadata": {},
   "outputs": [],
   "source": [
    "fruitFrame=DataFrame(fruitData) #대소문자구분"
   ]
  },
  {
   "cell_type": "code",
   "execution_count": 13,
   "id": "06f2984b",
   "metadata": {},
   "outputs": [
    {
     "data": {
      "text/html": [
       "<div>\n",
       "<style scoped>\n",
       "    .dataframe tbody tr th:only-of-type {\n",
       "        vertical-align: middle;\n",
       "    }\n",
       "\n",
       "    .dataframe tbody tr th {\n",
       "        vertical-align: top;\n",
       "    }\n",
       "\n",
       "    .dataframe thead th {\n",
       "        text-align: right;\n",
       "    }\n",
       "</style>\n",
       "<table border=\"1\" class=\"dataframe\">\n",
       "  <thead>\n",
       "    <tr style=\"text-align: right;\">\n",
       "      <th></th>\n",
       "      <th>fruitName</th>\n",
       "      <th>fruitPrice</th>\n",
       "      <th>num</th>\n",
       "    </tr>\n",
       "  </thead>\n",
       "  <tbody>\n",
       "    <tr>\n",
       "      <th>0</th>\n",
       "      <td>apple</td>\n",
       "      <td>2500</td>\n",
       "      <td>10</td>\n",
       "    </tr>\n",
       "    <tr>\n",
       "      <th>1</th>\n",
       "      <td>banana</td>\n",
       "      <td>3800</td>\n",
       "      <td>5</td>\n",
       "    </tr>\n",
       "    <tr>\n",
       "      <th>2</th>\n",
       "      <td>cherry</td>\n",
       "      <td>6000</td>\n",
       "      <td>3</td>\n",
       "    </tr>\n",
       "    <tr>\n",
       "      <th>3</th>\n",
       "      <td>pear</td>\n",
       "      <td>1200</td>\n",
       "      <td>8</td>\n",
       "    </tr>\n",
       "  </tbody>\n",
       "</table>\n",
       "</div>"
      ],
      "text/plain": [
       "  fruitName  fruitPrice  num\n",
       "0     apple        2500   10\n",
       "1    banana        3800    5\n",
       "2    cherry        6000    3\n",
       "3      pear        1200    8"
      ]
     },
     "execution_count": 13,
     "metadata": {},
     "output_type": "execute_result"
    }
   ],
   "source": [
    "fruitFrame"
   ]
  },
  {
   "cell_type": "code",
   "execution_count": 14,
   "id": "56514e88",
   "metadata": {},
   "outputs": [],
   "source": [
    "#위 테이블의 데이터 순서를 강제로 지정변경가능\n",
    "fruitFrame=DataFrame(fruitData,columns=['fruitPrice','num','fruitName'])"
   ]
  },
  {
   "cell_type": "code",
   "execution_count": 15,
   "id": "469bf7bc",
   "metadata": {},
   "outputs": [
    {
     "data": {
      "text/html": [
       "<div>\n",
       "<style scoped>\n",
       "    .dataframe tbody tr th:only-of-type {\n",
       "        vertical-align: middle;\n",
       "    }\n",
       "\n",
       "    .dataframe tbody tr th {\n",
       "        vertical-align: top;\n",
       "    }\n",
       "\n",
       "    .dataframe thead th {\n",
       "        text-align: right;\n",
       "    }\n",
       "</style>\n",
       "<table border=\"1\" class=\"dataframe\">\n",
       "  <thead>\n",
       "    <tr style=\"text-align: right;\">\n",
       "      <th></th>\n",
       "      <th>fruitPrice</th>\n",
       "      <th>num</th>\n",
       "      <th>fruitName</th>\n",
       "    </tr>\n",
       "  </thead>\n",
       "  <tbody>\n",
       "    <tr>\n",
       "      <th>0</th>\n",
       "      <td>2500</td>\n",
       "      <td>10</td>\n",
       "      <td>apple</td>\n",
       "    </tr>\n",
       "    <tr>\n",
       "      <th>1</th>\n",
       "      <td>3800</td>\n",
       "      <td>5</td>\n",
       "      <td>banana</td>\n",
       "    </tr>\n",
       "    <tr>\n",
       "      <th>2</th>\n",
       "      <td>6000</td>\n",
       "      <td>3</td>\n",
       "      <td>cherry</td>\n",
       "    </tr>\n",
       "    <tr>\n",
       "      <th>3</th>\n",
       "      <td>1200</td>\n",
       "      <td>8</td>\n",
       "      <td>pear</td>\n",
       "    </tr>\n",
       "  </tbody>\n",
       "</table>\n",
       "</div>"
      ],
      "text/plain": [
       "   fruitPrice  num fruitName\n",
       "0        2500   10     apple\n",
       "1        3800    5    banana\n",
       "2        6000    3    cherry\n",
       "3        1200    8      pear"
      ]
     },
     "execution_count": 15,
     "metadata": {},
     "output_type": "execute_result"
    }
   ],
   "source": [
    "fruitFrame"
   ]
  },
  {
   "cell_type": "code",
   "execution_count": 16,
   "id": "eab832e7",
   "metadata": {},
   "outputs": [
    {
     "data": {
      "text/plain": [
       "0     apple\n",
       "1    banana\n",
       "2    cherry\n",
       "3      pear\n",
       "Name: fruitName, dtype: object"
      ]
     },
     "execution_count": 16,
     "metadata": {},
     "output_type": "execute_result"
    }
   ],
   "source": [
    "fruitFrame['fruitName'] #시리즈객체 리턴"
   ]
  },
  {
   "cell_type": "code",
   "execution_count": 17,
   "id": "810f9366",
   "metadata": {},
   "outputs": [
    {
     "data": {
      "text/plain": [
       "0     apple\n",
       "1    banana\n",
       "2    cherry\n",
       "3      pear\n",
       "Name: fruitName, dtype: object"
      ]
     },
     "execution_count": 17,
     "metadata": {},
     "output_type": "execute_result"
    }
   ],
   "source": [
    "fruitFrame.fruitName #위와 결과같음"
   ]
  },
  {
   "cell_type": "code",
   "execution_count": 18,
   "id": "3628fffd",
   "metadata": {},
   "outputs": [],
   "source": [
    "#원하는 내용 추가한 새로운칼럼생성 방법\n",
    "#일괄적\n",
    "fruitFrame['year']='2022' #붉은색요소들 수정하면 일괄적으로 반영됨. C언어는 불가능. 파이썬은 가능"
   ]
  },
  {
   "cell_type": "code",
   "execution_count": 19,
   "id": "6c3dca87",
   "metadata": {},
   "outputs": [
    {
     "data": {
      "text/html": [
       "<div>\n",
       "<style scoped>\n",
       "    .dataframe tbody tr th:only-of-type {\n",
       "        vertical-align: middle;\n",
       "    }\n",
       "\n",
       "    .dataframe tbody tr th {\n",
       "        vertical-align: top;\n",
       "    }\n",
       "\n",
       "    .dataframe thead th {\n",
       "        text-align: right;\n",
       "    }\n",
       "</style>\n",
       "<table border=\"1\" class=\"dataframe\">\n",
       "  <thead>\n",
       "    <tr style=\"text-align: right;\">\n",
       "      <th></th>\n",
       "      <th>fruitPrice</th>\n",
       "      <th>num</th>\n",
       "      <th>fruitName</th>\n",
       "      <th>year</th>\n",
       "    </tr>\n",
       "  </thead>\n",
       "  <tbody>\n",
       "    <tr>\n",
       "      <th>0</th>\n",
       "      <td>2500</td>\n",
       "      <td>10</td>\n",
       "      <td>apple</td>\n",
       "      <td>2022</td>\n",
       "    </tr>\n",
       "    <tr>\n",
       "      <th>1</th>\n",
       "      <td>3800</td>\n",
       "      <td>5</td>\n",
       "      <td>banana</td>\n",
       "      <td>2022</td>\n",
       "    </tr>\n",
       "    <tr>\n",
       "      <th>2</th>\n",
       "      <td>6000</td>\n",
       "      <td>3</td>\n",
       "      <td>cherry</td>\n",
       "      <td>2022</td>\n",
       "    </tr>\n",
       "    <tr>\n",
       "      <th>3</th>\n",
       "      <td>1200</td>\n",
       "      <td>8</td>\n",
       "      <td>pear</td>\n",
       "      <td>2022</td>\n",
       "    </tr>\n",
       "  </tbody>\n",
       "</table>\n",
       "</div>"
      ],
      "text/plain": [
       "   fruitPrice  num fruitName  year\n",
       "0        2500   10     apple  2022\n",
       "1        3800    5    banana  2022\n",
       "2        6000    3    cherry  2022\n",
       "3        1200    8      pear  2022"
      ]
     },
     "execution_count": 19,
     "metadata": {},
     "output_type": "execute_result"
    }
   ],
   "source": [
    "fruitFrame"
   ]
  },
  {
   "cell_type": "code",
   "execution_count": 20,
   "id": "5795b3e3",
   "metadata": {},
   "outputs": [
    {
     "name": "stdout",
     "output_type": "stream",
     "text": [
      "0    4\n",
      "2    2\n",
      "3    1\n",
      "dtype: int64\n"
     ]
    }
   ],
   "source": [
    "#부분적, 줄마다 다른데이터\n",
    "# 특정항목 부분적 추가 하고 싶을때 시리즈개체 생성하여 붙임. \n",
    "variable=Series([4,2,1],index=[0,2,3]) #대소문자구분\n",
    "print(variable)"
   ]
  },
  {
   "cell_type": "code",
   "execution_count": 21,
   "id": "8e779ae1",
   "metadata": {},
   "outputs": [],
   "source": [
    "fruitFrame['stock']=variable"
   ]
  },
  {
   "cell_type": "code",
   "execution_count": 22,
   "id": "b32b6f49",
   "metadata": {},
   "outputs": [
    {
     "data": {
      "text/html": [
       "<div>\n",
       "<style scoped>\n",
       "    .dataframe tbody tr th:only-of-type {\n",
       "        vertical-align: middle;\n",
       "    }\n",
       "\n",
       "    .dataframe tbody tr th {\n",
       "        vertical-align: top;\n",
       "    }\n",
       "\n",
       "    .dataframe thead th {\n",
       "        text-align: right;\n",
       "    }\n",
       "</style>\n",
       "<table border=\"1\" class=\"dataframe\">\n",
       "  <thead>\n",
       "    <tr style=\"text-align: right;\">\n",
       "      <th></th>\n",
       "      <th>fruitPrice</th>\n",
       "      <th>num</th>\n",
       "      <th>fruitName</th>\n",
       "      <th>year</th>\n",
       "      <th>stock</th>\n",
       "    </tr>\n",
       "  </thead>\n",
       "  <tbody>\n",
       "    <tr>\n",
       "      <th>0</th>\n",
       "      <td>2500</td>\n",
       "      <td>10</td>\n",
       "      <td>apple</td>\n",
       "      <td>2022</td>\n",
       "      <td>4.0</td>\n",
       "    </tr>\n",
       "    <tr>\n",
       "      <th>1</th>\n",
       "      <td>3800</td>\n",
       "      <td>5</td>\n",
       "      <td>banana</td>\n",
       "      <td>2022</td>\n",
       "      <td>NaN</td>\n",
       "    </tr>\n",
       "    <tr>\n",
       "      <th>2</th>\n",
       "      <td>6000</td>\n",
       "      <td>3</td>\n",
       "      <td>cherry</td>\n",
       "      <td>2022</td>\n",
       "      <td>2.0</td>\n",
       "    </tr>\n",
       "    <tr>\n",
       "      <th>3</th>\n",
       "      <td>1200</td>\n",
       "      <td>8</td>\n",
       "      <td>pear</td>\n",
       "      <td>2022</td>\n",
       "      <td>1.0</td>\n",
       "    </tr>\n",
       "  </tbody>\n",
       "</table>\n",
       "</div>"
      ],
      "text/plain": [
       "   fruitPrice  num fruitName  year  stock\n",
       "0        2500   10     apple  2022    4.0\n",
       "1        3800    5    banana  2022    NaN\n",
       "2        6000    3    cherry  2022    2.0\n",
       "3        1200    8      pear  2022    1.0"
      ]
     },
     "execution_count": 22,
     "metadata": {},
     "output_type": "execute_result"
    }
   ],
   "source": [
    "fruitFrame"
   ]
  },
  {
   "cell_type": "code",
   "execution_count": 24,
   "id": "f721211f",
   "metadata": {},
   "outputs": [
    {
     "data": {
      "text/plain": [
       "apple     2500\n",
       "banana    3800\n",
       "pear      1200\n",
       "cherry    6000\n",
       "dtype: int64"
      ]
     },
     "execution_count": 24,
     "metadata": {},
     "output_type": "execute_result"
    }
   ],
   "source": [
    "fruit=Series([2500,3800,1200,6000],index=['apple','banana','pear','cherry'])\n",
    "fruit\n",
    "#절대, 절대절대 대소문자구분!!!!"
   ]
  },
  {
   "cell_type": "code",
   "execution_count": 25,
   "id": "20280fc6",
   "metadata": {},
   "outputs": [
    {
     "data": {
      "text/plain": [
       "apple     2500\n",
       "pear      1200\n",
       "cherry    6000\n",
       "dtype: int64"
      ]
     },
     "execution_count": 25,
     "metadata": {},
     "output_type": "execute_result"
    }
   ],
   "source": [
    "#바나나지워보기\n",
    "fruit.drop('banana') #하지만 원본데이터를 생성하면 바나나항목은 지워지지 않음"
   ]
  },
  {
   "cell_type": "code",
   "execution_count": 26,
   "id": "9b191bb8",
   "metadata": {},
   "outputs": [
    {
     "data": {
      "text/plain": [
       "apple     2500\n",
       "pear      1200\n",
       "cherry    6000\n",
       "dtype: int64"
      ]
     },
     "execution_count": 26,
     "metadata": {},
     "output_type": "execute_result"
    }
   ],
   "source": [
    "new_fruit=fruit.drop('banana')\n",
    "new_fruit\n",
    "#drop명령어는 원본데이터를 삭제할 수 없음.\n",
    "#삭제된 사본을 돌려준다"
   ]
  },
  {
   "cell_type": "code",
   "execution_count": 28,
   "id": "9f8c29d1",
   "metadata": {},
   "outputs": [
    {
     "data": {
      "text/plain": [
       "{'fruitName': ['apple', 'banana', 'cherry', 'pear'],\n",
       " 'fruitPrice': [2500, 3800, 6000, 1200],\n",
       " 'num': [10, 5, 3, 8]}"
      ]
     },
     "execution_count": 28,
     "metadata": {},
     "output_type": "execute_result"
    }
   ],
   "source": [
    "fruitData"
   ]
  },
  {
   "cell_type": "code",
   "execution_count": 30,
   "id": "8e8bde6f",
   "metadata": {},
   "outputs": [
    {
     "data": {
      "text/plain": [
       "['apple', 'banana', 'cherry', 'pear']"
      ]
     },
     "execution_count": 30,
     "metadata": {},
     "output_type": "execute_result"
    }
   ],
   "source": [
    "#데이터테이블에 과일이름 인덱스를 생성\n",
    "fruitName=fruitData['fruitName']\n",
    "fruitName"
   ]
  },
  {
   "cell_type": "code",
   "execution_count": 32,
   "id": "dfafbd6e",
   "metadata": {},
   "outputs": [
    {
     "data": {
      "text/html": [
       "<div>\n",
       "<style scoped>\n",
       "    .dataframe tbody tr th:only-of-type {\n",
       "        vertical-align: middle;\n",
       "    }\n",
       "\n",
       "    .dataframe tbody tr th {\n",
       "        vertical-align: top;\n",
       "    }\n",
       "\n",
       "    .dataframe thead th {\n",
       "        text-align: right;\n",
       "    }\n",
       "</style>\n",
       "<table border=\"1\" class=\"dataframe\">\n",
       "  <thead>\n",
       "    <tr style=\"text-align: right;\">\n",
       "      <th></th>\n",
       "      <th>fruitPrice</th>\n",
       "      <th>num</th>\n",
       "    </tr>\n",
       "  </thead>\n",
       "  <tbody>\n",
       "    <tr>\n",
       "      <th>apple</th>\n",
       "      <td>2500</td>\n",
       "      <td>10</td>\n",
       "    </tr>\n",
       "    <tr>\n",
       "      <th>banana</th>\n",
       "      <td>3800</td>\n",
       "      <td>5</td>\n",
       "    </tr>\n",
       "    <tr>\n",
       "      <th>cherry</th>\n",
       "      <td>6000</td>\n",
       "      <td>3</td>\n",
       "    </tr>\n",
       "    <tr>\n",
       "      <th>pear</th>\n",
       "      <td>1200</td>\n",
       "      <td>8</td>\n",
       "    </tr>\n",
       "  </tbody>\n",
       "</table>\n",
       "</div>"
      ],
      "text/plain": [
       "        fruitPrice  num\n",
       "apple         2500   10\n",
       "banana        3800    5\n",
       "cherry        6000    3\n",
       "pear          1200    8"
      ]
     },
     "execution_count": 32,
     "metadata": {},
     "output_type": "execute_result"
    }
   ],
   "source": [
    "#만들어낸 과일이름 인덱스를 적용\n",
    "fruitFrame=DataFrame(fruitData,index=fruitName,columns=['fruitPrice','num'])\n",
    "fruitFrame"
   ]
  },
  {
   "cell_type": "code",
   "execution_count": 33,
   "id": "bffba350",
   "metadata": {},
   "outputs": [
    {
     "data": {
      "text/html": [
       "<div>\n",
       "<style scoped>\n",
       "    .dataframe tbody tr th:only-of-type {\n",
       "        vertical-align: middle;\n",
       "    }\n",
       "\n",
       "    .dataframe tbody tr th {\n",
       "        vertical-align: top;\n",
       "    }\n",
       "\n",
       "    .dataframe thead th {\n",
       "        text-align: right;\n",
       "    }\n",
       "</style>\n",
       "<table border=\"1\" class=\"dataframe\">\n",
       "  <thead>\n",
       "    <tr style=\"text-align: right;\">\n",
       "      <th></th>\n",
       "      <th>fruitPrice</th>\n",
       "      <th>num</th>\n",
       "    </tr>\n",
       "  </thead>\n",
       "  <tbody>\n",
       "    <tr>\n",
       "      <th>banana</th>\n",
       "      <td>3800</td>\n",
       "      <td>5</td>\n",
       "    </tr>\n",
       "    <tr>\n",
       "      <th>pear</th>\n",
       "      <td>1200</td>\n",
       "      <td>8</td>\n",
       "    </tr>\n",
       "  </tbody>\n",
       "</table>\n",
       "</div>"
      ],
      "text/plain": [
       "        fruitPrice  num\n",
       "banana        3800    5\n",
       "pear          1200    8"
      ]
     },
     "execution_count": 33,
     "metadata": {},
     "output_type": "execute_result"
    }
   ],
   "source": [
    "#위 데이터 중에 목록하나를 지우고 싶다면 원본데이터 삭제는 불가능하니 drop을 사용\n",
    "fruitFrame2=fruitFrame.drop(['apple','cherry'])\n",
    "fruitFrame2"
   ]
  },
  {
   "cell_type": "code",
   "execution_count": 34,
   "id": "91488075",
   "metadata": {},
   "outputs": [
    {
     "data": {
      "text/html": [
       "<div>\n",
       "<style scoped>\n",
       "    .dataframe tbody tr th:only-of-type {\n",
       "        vertical-align: middle;\n",
       "    }\n",
       "\n",
       "    .dataframe tbody tr th {\n",
       "        vertical-align: top;\n",
       "    }\n",
       "\n",
       "    .dataframe thead th {\n",
       "        text-align: right;\n",
       "    }\n",
       "</style>\n",
       "<table border=\"1\" class=\"dataframe\">\n",
       "  <thead>\n",
       "    <tr style=\"text-align: right;\">\n",
       "      <th></th>\n",
       "      <th>fruitPrice</th>\n",
       "    </tr>\n",
       "  </thead>\n",
       "  <tbody>\n",
       "    <tr>\n",
       "      <th>apple</th>\n",
       "      <td>2500</td>\n",
       "    </tr>\n",
       "    <tr>\n",
       "      <th>banana</th>\n",
       "      <td>3800</td>\n",
       "    </tr>\n",
       "    <tr>\n",
       "      <th>cherry</th>\n",
       "      <td>6000</td>\n",
       "    </tr>\n",
       "    <tr>\n",
       "      <th>pear</th>\n",
       "      <td>1200</td>\n",
       "    </tr>\n",
       "  </tbody>\n",
       "</table>\n",
       "</div>"
      ],
      "text/plain": [
       "        fruitPrice\n",
       "apple         2500\n",
       "banana        3800\n",
       "cherry        6000\n",
       "pear          1200"
      ]
     },
     "execution_count": 34,
     "metadata": {},
     "output_type": "execute_result"
    }
   ],
   "source": [
    "#0번축이 삭제되어있음\n",
    "#num영역을 삭제하고 싶으면 1번축 삭제를 명령해야함\n",
    "fruitFrame3=fruitFrame.drop('num',axis=1)\n",
    "fruitFrame3"
   ]
  },
  {
   "cell_type": "code",
   "execution_count": 35,
   "id": "7516e857",
   "metadata": {},
   "outputs": [
    {
     "data": {
      "text/plain": [
       "apple     2500\n",
       "banana    3800\n",
       "pear      1200\n",
       "cherry    6000\n",
       "dtype: int64"
      ]
     },
     "execution_count": 35,
     "metadata": {},
     "output_type": "execute_result"
    }
   ],
   "source": [
    "fruit"
   ]
  },
  {
   "cell_type": "code",
   "execution_count": 36,
   "id": "942c1dee",
   "metadata": {},
   "outputs": [
    {
     "data": {
      "text/plain": [
       "apple     2500\n",
       "banana    3800\n",
       "pear      1200\n",
       "dtype: int64"
      ]
     },
     "execution_count": 36,
     "metadata": {},
     "output_type": "execute_result"
    }
   ],
   "source": [
    "#인덱스가 정해진 상태에서 필요한 부분을 가져오는 방법= 슬라이싱\n",
    "fruit['apple':'pear']"
   ]
  },
  {
   "cell_type": "code",
   "execution_count": 38,
   "id": "b26b3e18",
   "metadata": {},
   "outputs": [
    {
     "data": {
      "text/plain": [
       "apple    2500\n",
       "dtype: int64"
      ]
     },
     "execution_count": 38,
     "metadata": {},
     "output_type": "execute_result"
    }
   ],
   "source": [
    "fruit[0:1] #숫자로는 값을 불러올 수 있으나 변경되면 다른 값이 도출되므로 문자열로 범위지정하는게 안전함"
   ]
  },
  {
   "cell_type": "code",
   "execution_count": 39,
   "id": "58eb4a9c",
   "metadata": {},
   "outputs": [
    {
     "data": {
      "text/html": [
       "<div>\n",
       "<style scoped>\n",
       "    .dataframe tbody tr th:only-of-type {\n",
       "        vertical-align: middle;\n",
       "    }\n",
       "\n",
       "    .dataframe tbody tr th {\n",
       "        vertical-align: top;\n",
       "    }\n",
       "\n",
       "    .dataframe thead th {\n",
       "        text-align: right;\n",
       "    }\n",
       "</style>\n",
       "<table border=\"1\" class=\"dataframe\">\n",
       "  <thead>\n",
       "    <tr style=\"text-align: right;\">\n",
       "      <th></th>\n",
       "      <th>fruitPrice</th>\n",
       "      <th>num</th>\n",
       "    </tr>\n",
       "  </thead>\n",
       "  <tbody>\n",
       "    <tr>\n",
       "      <th>apple</th>\n",
       "      <td>2500</td>\n",
       "      <td>10</td>\n",
       "    </tr>\n",
       "    <tr>\n",
       "      <th>banana</th>\n",
       "      <td>3800</td>\n",
       "      <td>5</td>\n",
       "    </tr>\n",
       "  </tbody>\n",
       "</table>\n",
       "</div>"
      ],
      "text/plain": [
       "        fruitPrice  num\n",
       "apple         2500   10\n",
       "banana        3800    5"
      ]
     },
     "execution_count": 39,
     "metadata": {},
     "output_type": "execute_result"
    }
   ],
   "source": [
    "fruitFrame['apple':'banana'] # 프레임에서도 슬라이스가능"
   ]
  },
  {
   "cell_type": "code",
   "execution_count": 40,
   "id": "f8e87d19",
   "metadata": {},
   "outputs": [],
   "source": [
    "#프레임에서 연산\n",
    "fruit1=Series([5,9,10,3],index=['apple','banana','cherry','pear'])\n",
    "fruit2=Series([3,2,9,5,10],index=['apple','orange','banana','cherry','mango'])"
   ]
  },
  {
   "cell_type": "code",
   "execution_count": 41,
   "id": "9587d774",
   "metadata": {},
   "outputs": [
    {
     "data": {
      "text/plain": [
       "apple      8.0\n",
       "banana    18.0\n",
       "cherry    15.0\n",
       "mango      NaN\n",
       "orange     NaN\n",
       "pear       NaN\n",
       "dtype: float64"
      ]
     },
     "execution_count": 41,
     "metadata": {},
     "output_type": "execute_result"
    }
   ],
   "source": [
    "fruit1+fruit2 #시리즈객체의 연산은 같은 값이 있어야 연산가능. 없는 값은NaN이 됨"
   ]
  },
  {
   "cell_type": "code",
   "execution_count": 42,
   "id": "5cf5618e",
   "metadata": {},
   "outputs": [],
   "source": [
    "fruitData1 = {'Ohio' : [4,8,3,5],'Texas' : [0,1,2,3]}\n",
    "fruitFrame1 = DataFrame(fruitData1,columns=['Ohio','Texas'],index = ['apple','banana','cherry','peer'])\n",
    "fruitData2 = {'Ohio' : [3,0,2,1,7],'Colorado':[5,4,3,6,0]}\n",
    "fruitFrame2 = DataFrame(fruitData2,columns =['Ohio','Colorado'],index = ['apple','orange','banana','cherry','mango'])"
   ]
  },
  {
   "cell_type": "code",
   "execution_count": 43,
   "id": "f4e3840a",
   "metadata": {},
   "outputs": [
    {
     "data": {
      "text/html": [
       "<div>\n",
       "<style scoped>\n",
       "    .dataframe tbody tr th:only-of-type {\n",
       "        vertical-align: middle;\n",
       "    }\n",
       "\n",
       "    .dataframe tbody tr th {\n",
       "        vertical-align: top;\n",
       "    }\n",
       "\n",
       "    .dataframe thead th {\n",
       "        text-align: right;\n",
       "    }\n",
       "</style>\n",
       "<table border=\"1\" class=\"dataframe\">\n",
       "  <thead>\n",
       "    <tr style=\"text-align: right;\">\n",
       "      <th></th>\n",
       "      <th>Ohio</th>\n",
       "      <th>Texas</th>\n",
       "    </tr>\n",
       "  </thead>\n",
       "  <tbody>\n",
       "    <tr>\n",
       "      <th>apple</th>\n",
       "      <td>4</td>\n",
       "      <td>0</td>\n",
       "    </tr>\n",
       "    <tr>\n",
       "      <th>banana</th>\n",
       "      <td>8</td>\n",
       "      <td>1</td>\n",
       "    </tr>\n",
       "    <tr>\n",
       "      <th>cherry</th>\n",
       "      <td>3</td>\n",
       "      <td>2</td>\n",
       "    </tr>\n",
       "    <tr>\n",
       "      <th>peer</th>\n",
       "      <td>5</td>\n",
       "      <td>3</td>\n",
       "    </tr>\n",
       "  </tbody>\n",
       "</table>\n",
       "</div>"
      ],
      "text/plain": [
       "        Ohio  Texas\n",
       "apple      4      0\n",
       "banana     8      1\n",
       "cherry     3      2\n",
       "peer       5      3"
      ]
     },
     "execution_count": 43,
     "metadata": {},
     "output_type": "execute_result"
    }
   ],
   "source": [
    "fruitFrame1"
   ]
  },
  {
   "cell_type": "code",
   "execution_count": 44,
   "id": "311843a4",
   "metadata": {},
   "outputs": [
    {
     "data": {
      "text/html": [
       "<div>\n",
       "<style scoped>\n",
       "    .dataframe tbody tr th:only-of-type {\n",
       "        vertical-align: middle;\n",
       "    }\n",
       "\n",
       "    .dataframe tbody tr th {\n",
       "        vertical-align: top;\n",
       "    }\n",
       "\n",
       "    .dataframe thead th {\n",
       "        text-align: right;\n",
       "    }\n",
       "</style>\n",
       "<table border=\"1\" class=\"dataframe\">\n",
       "  <thead>\n",
       "    <tr style=\"text-align: right;\">\n",
       "      <th></th>\n",
       "      <th>Ohio</th>\n",
       "      <th>Colorado</th>\n",
       "    </tr>\n",
       "  </thead>\n",
       "  <tbody>\n",
       "    <tr>\n",
       "      <th>apple</th>\n",
       "      <td>3</td>\n",
       "      <td>5</td>\n",
       "    </tr>\n",
       "    <tr>\n",
       "      <th>orange</th>\n",
       "      <td>0</td>\n",
       "      <td>4</td>\n",
       "    </tr>\n",
       "    <tr>\n",
       "      <th>banana</th>\n",
       "      <td>2</td>\n",
       "      <td>3</td>\n",
       "    </tr>\n",
       "    <tr>\n",
       "      <th>cherry</th>\n",
       "      <td>1</td>\n",
       "      <td>6</td>\n",
       "    </tr>\n",
       "    <tr>\n",
       "      <th>mango</th>\n",
       "      <td>7</td>\n",
       "      <td>0</td>\n",
       "    </tr>\n",
       "  </tbody>\n",
       "</table>\n",
       "</div>"
      ],
      "text/plain": [
       "        Ohio  Colorado\n",
       "apple      3         5\n",
       "orange     0         4\n",
       "banana     2         3\n",
       "cherry     1         6\n",
       "mango      7         0"
      ]
     },
     "execution_count": 44,
     "metadata": {},
     "output_type": "execute_result"
    }
   ],
   "source": [
    "fruitFrame2"
   ]
  },
  {
   "cell_type": "code",
   "execution_count": 45,
   "id": "6f09fece",
   "metadata": {},
   "outputs": [
    {
     "data": {
      "text/html": [
       "<div>\n",
       "<style scoped>\n",
       "    .dataframe tbody tr th:only-of-type {\n",
       "        vertical-align: middle;\n",
       "    }\n",
       "\n",
       "    .dataframe tbody tr th {\n",
       "        vertical-align: top;\n",
       "    }\n",
       "\n",
       "    .dataframe thead th {\n",
       "        text-align: right;\n",
       "    }\n",
       "</style>\n",
       "<table border=\"1\" class=\"dataframe\">\n",
       "  <thead>\n",
       "    <tr style=\"text-align: right;\">\n",
       "      <th></th>\n",
       "      <th>Colorado</th>\n",
       "      <th>Ohio</th>\n",
       "      <th>Texas</th>\n",
       "    </tr>\n",
       "  </thead>\n",
       "  <tbody>\n",
       "    <tr>\n",
       "      <th>apple</th>\n",
       "      <td>NaN</td>\n",
       "      <td>7.0</td>\n",
       "      <td>NaN</td>\n",
       "    </tr>\n",
       "    <tr>\n",
       "      <th>banana</th>\n",
       "      <td>NaN</td>\n",
       "      <td>10.0</td>\n",
       "      <td>NaN</td>\n",
       "    </tr>\n",
       "    <tr>\n",
       "      <th>cherry</th>\n",
       "      <td>NaN</td>\n",
       "      <td>4.0</td>\n",
       "      <td>NaN</td>\n",
       "    </tr>\n",
       "    <tr>\n",
       "      <th>mango</th>\n",
       "      <td>NaN</td>\n",
       "      <td>NaN</td>\n",
       "      <td>NaN</td>\n",
       "    </tr>\n",
       "    <tr>\n",
       "      <th>orange</th>\n",
       "      <td>NaN</td>\n",
       "      <td>NaN</td>\n",
       "      <td>NaN</td>\n",
       "    </tr>\n",
       "    <tr>\n",
       "      <th>peer</th>\n",
       "      <td>NaN</td>\n",
       "      <td>NaN</td>\n",
       "      <td>NaN</td>\n",
       "    </tr>\n",
       "  </tbody>\n",
       "</table>\n",
       "</div>"
      ],
      "text/plain": [
       "        Colorado  Ohio  Texas\n",
       "apple        NaN   7.0    NaN\n",
       "banana       NaN  10.0    NaN\n",
       "cherry       NaN   4.0    NaN\n",
       "mango        NaN   NaN    NaN\n",
       "orange       NaN   NaN    NaN\n",
       "peer         NaN   NaN    NaN"
      ]
     },
     "execution_count": 45,
     "metadata": {},
     "output_type": "execute_result"
    }
   ],
   "source": [
    "fruitFrame1+fruitFrame2 #시리즈객체와 똑같이 프레임에서도 같은 값만 연산가능"
   ]
  },
  {
   "cell_type": "markdown",
   "id": "364e7e8b",
   "metadata": {},
   "source": [
    "# 데이터정렬"
   ]
  },
  {
   "cell_type": "code",
   "execution_count": 46,
   "id": "0629a659",
   "metadata": {},
   "outputs": [
    {
     "data": {
      "text/plain": [
       "apple     2500\n",
       "banana    3800\n",
       "pear      1200\n",
       "cherry    6000\n",
       "dtype: int64"
      ]
     },
     "execution_count": 46,
     "metadata": {},
     "output_type": "execute_result"
    }
   ],
   "source": [
    "fruit"
   ]
  },
  {
   "cell_type": "code",
   "execution_count": 48,
   "id": "87c01d0a",
   "metadata": {},
   "outputs": [
    {
     "data": {
      "text/plain": [
       "cherry    6000\n",
       "banana    3800\n",
       "apple     2500\n",
       "pear      1200\n",
       "dtype: int64"
      ]
     },
     "execution_count": 48,
     "metadata": {},
     "output_type": "execute_result"
    }
   ],
   "source": [
    "fruit.sort_values(ascending=False) #s높은가격순으로 정렬. 괄호안에 빈칸일 경우 낮은가격순."
   ]
  },
  {
   "cell_type": "code",
   "execution_count": 50,
   "id": "6ab30e27",
   "metadata": {},
   "outputs": [
    {
     "data": {
      "text/plain": [
       "apple     2500\n",
       "banana    3800\n",
       "cherry    6000\n",
       "pear      1200\n",
       "dtype: int64"
      ]
     },
     "execution_count": 50,
     "metadata": {},
     "output_type": "execute_result"
    }
   ],
   "source": [
    "fruit.sort_index() #(인덱스순으로 정렬)"
   ]
  },
  {
   "cell_type": "code",
   "execution_count": 51,
   "id": "a6dad9d0",
   "metadata": {},
   "outputs": [
    {
     "data": {
      "text/html": [
       "<div>\n",
       "<style scoped>\n",
       "    .dataframe tbody tr th:only-of-type {\n",
       "        vertical-align: middle;\n",
       "    }\n",
       "\n",
       "    .dataframe tbody tr th {\n",
       "        vertical-align: top;\n",
       "    }\n",
       "\n",
       "    .dataframe thead th {\n",
       "        text-align: right;\n",
       "    }\n",
       "</style>\n",
       "<table border=\"1\" class=\"dataframe\">\n",
       "  <thead>\n",
       "    <tr style=\"text-align: right;\">\n",
       "      <th></th>\n",
       "      <th>fruitPrice</th>\n",
       "      <th>num</th>\n",
       "    </tr>\n",
       "  </thead>\n",
       "  <tbody>\n",
       "    <tr>\n",
       "      <th>apple</th>\n",
       "      <td>2500</td>\n",
       "      <td>10</td>\n",
       "    </tr>\n",
       "    <tr>\n",
       "      <th>banana</th>\n",
       "      <td>3800</td>\n",
       "      <td>5</td>\n",
       "    </tr>\n",
       "    <tr>\n",
       "      <th>cherry</th>\n",
       "      <td>6000</td>\n",
       "      <td>3</td>\n",
       "    </tr>\n",
       "    <tr>\n",
       "      <th>pear</th>\n",
       "      <td>1200</td>\n",
       "      <td>8</td>\n",
       "    </tr>\n",
       "  </tbody>\n",
       "</table>\n",
       "</div>"
      ],
      "text/plain": [
       "        fruitPrice  num\n",
       "apple         2500   10\n",
       "banana        3800    5\n",
       "cherry        6000    3\n",
       "pear          1200    8"
      ]
     },
     "execution_count": 51,
     "metadata": {},
     "output_type": "execute_result"
    }
   ],
   "source": [
    "fruitFrame.sort_index() "
   ]
  },
  {
   "cell_type": "code",
   "execution_count": 52,
   "id": "de4abe5b",
   "metadata": {},
   "outputs": [
    {
     "data": {
      "text/html": [
       "<div>\n",
       "<style scoped>\n",
       "    .dataframe tbody tr th:only-of-type {\n",
       "        vertical-align: middle;\n",
       "    }\n",
       "\n",
       "    .dataframe tbody tr th {\n",
       "        vertical-align: top;\n",
       "    }\n",
       "\n",
       "    .dataframe thead th {\n",
       "        text-align: right;\n",
       "    }\n",
       "</style>\n",
       "<table border=\"1\" class=\"dataframe\">\n",
       "  <thead>\n",
       "    <tr style=\"text-align: right;\">\n",
       "      <th></th>\n",
       "      <th>fruitPrice</th>\n",
       "      <th>num</th>\n",
       "    </tr>\n",
       "  </thead>\n",
       "  <tbody>\n",
       "    <tr>\n",
       "      <th>pear</th>\n",
       "      <td>1200</td>\n",
       "      <td>8</td>\n",
       "    </tr>\n",
       "    <tr>\n",
       "      <th>apple</th>\n",
       "      <td>2500</td>\n",
       "      <td>10</td>\n",
       "    </tr>\n",
       "    <tr>\n",
       "      <th>banana</th>\n",
       "      <td>3800</td>\n",
       "      <td>5</td>\n",
       "    </tr>\n",
       "    <tr>\n",
       "      <th>cherry</th>\n",
       "      <td>6000</td>\n",
       "      <td>3</td>\n",
       "    </tr>\n",
       "  </tbody>\n",
       "</table>\n",
       "</div>"
      ],
      "text/plain": [
       "        fruitPrice  num\n",
       "pear          1200    8\n",
       "apple         2500   10\n",
       "banana        3800    5\n",
       "cherry        6000    3"
      ]
     },
     "execution_count": 52,
     "metadata": {},
     "output_type": "execute_result"
    }
   ],
   "source": [
    "#값으로 정렬\n",
    "fruitFrame.sort_values(by=['fruitPrice','num']) "
   ]
  },
  {
   "cell_type": "markdown",
   "id": "0aa46ce3",
   "metadata": {},
   "source": [
    "## 독일인 신용도"
   ]
  }
 ],
 "metadata": {
  "kernelspec": {
   "display_name": "Python 3 (ipykernel)",
   "language": "python",
   "name": "python3"
  },
  "language_info": {
   "codemirror_mode": {
    "name": "ipython",
    "version": 3
   },
   "file_extension": ".py",
   "mimetype": "text/x-python",
   "name": "python",
   "nbconvert_exporter": "python",
   "pygments_lexer": "ipython3",
   "version": "3.9.7"
  }
 },
 "nbformat": 4,
 "nbformat_minor": 5
}
