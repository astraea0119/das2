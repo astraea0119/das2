{
 "cells": [
  {
   "cell_type": "code",
   "execution_count": 1,
   "id": "e148101d",
   "metadata": {},
   "outputs": [
    {
     "data": {
      "text/plain": [
       "'2.8.0'"
      ]
     },
     "execution_count": 1,
     "metadata": {},
     "output_type": "execute_result"
    }
   ],
   "source": [
    "import keras\n",
    "keras.__version__ # 언더바 2개 오타"
   ]
  },
  {
   "cell_type": "code",
   "execution_count": 2,
   "id": "31ad5b3f",
   "metadata": {},
   "outputs": [],
   "source": [
    "from keras.datasets import imdb\n",
    "(train_data, train_label), (test_data, test_label) = imdb.load_data(num_words=10000)\n",
    "#(num_words=10000= 케라스 언어로 \"전체데이터 중 빈도 높은 만개만 가져옴\" 명령\n",
    "#imdb=영화리뷰데이터"
   ]
  },
  {
   "cell_type": "code",
   "execution_count": 3,
   "id": "20c80602",
   "metadata": {},
   "outputs": [
    {
     "data": {
      "text/plain": [
       "25000"
      ]
     },
     "execution_count": 3,
     "metadata": {},
     "output_type": "execute_result"
    }
   ],
   "source": [
    "#구글사이트에서 가져온데이터임을 알림. 프래임워크가 주소만 가지고 있다가 필요할때마다 데이터를 불러옴.\n",
    "\n",
    "len(train_data)\n",
    "#학습용데이터의 갯수"
   ]
  },
  {
   "cell_type": "code",
   "execution_count": 4,
   "id": "008144ec",
   "metadata": {},
   "outputs": [
    {
     "data": {
      "text/plain": [
       "25000"
      ]
     },
     "execution_count": 4,
     "metadata": {},
     "output_type": "execute_result"
    }
   ],
   "source": [
    "len(test_data) #테스트데이터의 갯수"
   ]
  },
  {
   "cell_type": "code",
   "execution_count": 5,
   "id": "34e9c14a",
   "metadata": {},
   "outputs": [
    {
     "data": {
      "text/plain": [
       "[1,\n",
       " 14,\n",
       " 22,\n",
       " 16,\n",
       " 43,\n",
       " 530,\n",
       " 973,\n",
       " 1622,\n",
       " 1385,\n",
       " 65,\n",
       " 458,\n",
       " 4468,\n",
       " 66,\n",
       " 3941,\n",
       " 4,\n",
       " 173,\n",
       " 36,\n",
       " 256,\n",
       " 5,\n",
       " 25,\n",
       " 100,\n",
       " 43,\n",
       " 838,\n",
       " 112,\n",
       " 50,\n",
       " 670,\n",
       " 2,\n",
       " 9,\n",
       " 35,\n",
       " 480,\n",
       " 284,\n",
       " 5,\n",
       " 150,\n",
       " 4,\n",
       " 172,\n",
       " 112,\n",
       " 167,\n",
       " 2,\n",
       " 336,\n",
       " 385,\n",
       " 39,\n",
       " 4,\n",
       " 172,\n",
       " 4536,\n",
       " 1111,\n",
       " 17,\n",
       " 546,\n",
       " 38,\n",
       " 13,\n",
       " 447,\n",
       " 4,\n",
       " 192,\n",
       " 50,\n",
       " 16,\n",
       " 6,\n",
       " 147,\n",
       " 2025,\n",
       " 19,\n",
       " 14,\n",
       " 22,\n",
       " 4,\n",
       " 1920,\n",
       " 4613,\n",
       " 469,\n",
       " 4,\n",
       " 22,\n",
       " 71,\n",
       " 87,\n",
       " 12,\n",
       " 16,\n",
       " 43,\n",
       " 530,\n",
       " 38,\n",
       " 76,\n",
       " 15,\n",
       " 13,\n",
       " 1247,\n",
       " 4,\n",
       " 22,\n",
       " 17,\n",
       " 515,\n",
       " 17,\n",
       " 12,\n",
       " 16,\n",
       " 626,\n",
       " 18,\n",
       " 2,\n",
       " 5,\n",
       " 62,\n",
       " 386,\n",
       " 12,\n",
       " 8,\n",
       " 316,\n",
       " 8,\n",
       " 106,\n",
       " 5,\n",
       " 4,\n",
       " 2223,\n",
       " 5244,\n",
       " 16,\n",
       " 480,\n",
       " 66,\n",
       " 3785,\n",
       " 33,\n",
       " 4,\n",
       " 130,\n",
       " 12,\n",
       " 16,\n",
       " 38,\n",
       " 619,\n",
       " 5,\n",
       " 25,\n",
       " 124,\n",
       " 51,\n",
       " 36,\n",
       " 135,\n",
       " 48,\n",
       " 25,\n",
       " 1415,\n",
       " 33,\n",
       " 6,\n",
       " 22,\n",
       " 12,\n",
       " 215,\n",
       " 28,\n",
       " 77,\n",
       " 52,\n",
       " 5,\n",
       " 14,\n",
       " 407,\n",
       " 16,\n",
       " 82,\n",
       " 2,\n",
       " 8,\n",
       " 4,\n",
       " 107,\n",
       " 117,\n",
       " 5952,\n",
       " 15,\n",
       " 256,\n",
       " 4,\n",
       " 2,\n",
       " 7,\n",
       " 3766,\n",
       " 5,\n",
       " 723,\n",
       " 36,\n",
       " 71,\n",
       " 43,\n",
       " 530,\n",
       " 476,\n",
       " 26,\n",
       " 400,\n",
       " 317,\n",
       " 46,\n",
       " 7,\n",
       " 4,\n",
       " 2,\n",
       " 1029,\n",
       " 13,\n",
       " 104,\n",
       " 88,\n",
       " 4,\n",
       " 381,\n",
       " 15,\n",
       " 297,\n",
       " 98,\n",
       " 32,\n",
       " 2071,\n",
       " 56,\n",
       " 26,\n",
       " 141,\n",
       " 6,\n",
       " 194,\n",
       " 7486,\n",
       " 18,\n",
       " 4,\n",
       " 226,\n",
       " 22,\n",
       " 21,\n",
       " 134,\n",
       " 476,\n",
       " 26,\n",
       " 480,\n",
       " 5,\n",
       " 144,\n",
       " 30,\n",
       " 5535,\n",
       " 18,\n",
       " 51,\n",
       " 36,\n",
       " 28,\n",
       " 224,\n",
       " 92,\n",
       " 25,\n",
       " 104,\n",
       " 4,\n",
       " 226,\n",
       " 65,\n",
       " 16,\n",
       " 38,\n",
       " 1334,\n",
       " 88,\n",
       " 12,\n",
       " 16,\n",
       " 283,\n",
       " 5,\n",
       " 16,\n",
       " 4472,\n",
       " 113,\n",
       " 103,\n",
       " 32,\n",
       " 15,\n",
       " 16,\n",
       " 5345,\n",
       " 19,\n",
       " 178,\n",
       " 32]"
      ]
     },
     "execution_count": 5,
     "metadata": {},
     "output_type": "execute_result"
    }
   ],
   "source": [
    "#학습:테스트 5:5비율로 준비됨\n",
    "\n",
    "train_data[0]"
   ]
  },
  {
   "cell_type": "code",
   "execution_count": 6,
   "id": "5ff2ee38",
   "metadata": {},
   "outputs": [
    {
     "data": {
      "text/plain": [
       "1"
      ]
     },
     "execution_count": 6,
     "metadata": {},
     "output_type": "execute_result"
    }
   ],
   "source": [
    "#위 데이터 해석= 숫자들은 전부 단어들임. 만개의 제약을 걸었으므로 전체 갯수는 999개\n",
    "\n",
    "train_label[0] #오류발생 초기세팅시 T라고 적음"
   ]
  },
  {
   "cell_type": "code",
   "execution_count": 7,
   "id": "4aabdce6",
   "metadata": {},
   "outputs": [],
   "source": [
    "# word_index는 단어와 정수 인덱스를 매핑한 딕셔너리입니다\n",
    "word_index = imdb.get_word_index()\n",
    "# 정수 인덱스와 단어를 매핑하도록 뒤집습니다\n",
    "reverse_word_index = dict([(value, key) for (key, value) in word_index.items()])\n",
    "# 리뷰를 디코딩합니다. \n",
    "# 0, 1, 2는 '패딩', '문서 시작', '사전에 없음'을 위한 인덱스이므로 3을 뺍니다\n",
    "decoded_review = ' '.join([reverse_word_index.get(i - 3, '?') for i in train_data[0]])"
   ]
  },
  {
   "cell_type": "code",
   "execution_count": 8,
   "id": "9c8cc5c9",
   "metadata": {},
   "outputs": [
    {
     "data": {
      "text/plain": [
       "\"? this film was just brilliant casting location scenery story direction everyone's really suited the part they played and you could just imagine being there robert ? is an amazing actor and now the same being director ? father came from the same scottish island as myself so i loved the fact there was a real connection with this film the witty remarks throughout the film were great it was just brilliant so much that i bought the film as soon as it was released for ? and would recommend it to everyone to watch and the fly fishing was amazing really cried at the end it was so sad and you know what they say if you cry at a film it must have been good and this definitely was also ? to the two little boy's that played the ? of norman and paul they were just brilliant children are often left out of the ? list i think because the stars that play them all grown up are such a big profile for the whole film but these children are amazing and should be praised for what they have done don't you think the whole story was so lovely because it was true and was someone's life after all that was shared with us all\""
      ]
     },
     "execution_count": 8,
     "metadata": {},
     "output_type": "execute_result"
    }
   ],
   "source": [
    "decoded_review"
   ]
  },
  {
   "cell_type": "markdown",
   "id": "02c17a7c",
   "metadata": {},
   "source": [
    "#위 리뷰를 실제문자로 디코딩 해본결과 1은 긍정적리뷰임을 확인 <P>\n",
    "#단어마다 넘버를 매기면 처리할 데이터나 너무 많아져서 긍정/부정으로 1/0으로 바꿔 데이터처리"
   ]
  },
  {
   "cell_type": "code",
   "execution_count": 9,
   "id": "c132c6d4",
   "metadata": {},
   "outputs": [],
   "source": [
    "import numpy as np\n",
    "#백터라이즈라는 함수를 만들고 순서대로 시퀀시스를 붙임\n",
    "#sequences=넘겨받을 숫자를 파라메터로 설정.디멘션=차원을 받아들이는 변수\n",
    "\n",
    "# np.zeros= 0으로 채워진 배열. 제로스 외 원스 엠티 등 다양 10개 행에 만개짜리 값생김\n",
    "# np.zeros=의 값을 리절트라는 변수로 저장\n",
    "# _탈자\n",
    "def vectorize_sequences(sequences, dimension=10000):\n",
    "    results = np.zeros((10,dimension))\n",
    "    \n",
    "    return results"
   ]
  },
  {
   "cell_type": "code",
   "execution_count": 10,
   "id": "145130c8",
   "metadata": {},
   "outputs": [
    {
     "data": {
      "text/plain": [
       "array([[0., 0., 0., ..., 0., 0., 0.],\n",
       "       [0., 0., 0., ..., 0., 0., 0.],\n",
       "       [0., 0., 0., ..., 0., 0., 0.],\n",
       "       ...,\n",
       "       [0., 0., 0., ..., 0., 0., 0.],\n",
       "       [0., 0., 0., ..., 0., 0., 0.],\n",
       "       [0., 0., 0., ..., 0., 0., 0.]])"
      ]
     },
     "execution_count": 10,
     "metadata": {},
     "output_type": "execute_result"
    }
   ],
   "source": [
    "vectorize_sequences(train_data)"
   ]
  },
  {
   "cell_type": "code",
   "execution_count": 11,
   "id": "f6a4ebdc",
   "metadata": {},
   "outputs": [
    {
     "data": {
      "text/plain": [
       "(10, 10000)"
      ]
     },
     "execution_count": 11,
     "metadata": {},
     "output_type": "execute_result"
    }
   ],
   "source": [
    "vectorize_sequences(train_data).shape"
   ]
  },
  {
   "cell_type": "code",
   "execution_count": 12,
   "id": "545966a5",
   "metadata": {},
   "outputs": [
    {
     "data": {
      "text/plain": [
       "(25000, 10000)"
      ]
     },
     "execution_count": 12,
     "metadata": {},
     "output_type": "execute_result"
    }
   ],
   "source": [
    "#이제는 넘겨받은 단어의 수(sequences)만큼 배열의갯수를 만듬\n",
    "def vectorize_sequences(sequences, dimension=10000):\n",
    "    results = np.zeros((len(sequences),dimension))\n",
    "    \n",
    "    return results\n",
    "\n",
    "vectorize_sequences(train_data).shape\n"
   ]
  },
  {
   "cell_type": "code",
   "execution_count": 13,
   "id": "606be5f8",
   "metadata": {},
   "outputs": [
    {
     "data": {
      "text/plain": [
       "array([[0., 1., 1., ..., 0., 0., 0.],\n",
       "       [0., 1., 1., ..., 0., 0., 0.],\n",
       "       [0., 1., 1., ..., 0., 0., 0.],\n",
       "       ...,\n",
       "       [0., 1., 1., ..., 0., 0., 0.],\n",
       "       [0., 1., 1., ..., 0., 0., 0.],\n",
       "       [0., 1., 1., ..., 0., 0., 0.]])"
      ]
     },
     "execution_count": 13,
     "metadata": {},
     "output_type": "execute_result"
    }
   ],
   "source": [
    "# 지정안 전체데이터를 생성해옴. 이제 2만5천개 행 만개 열의 데이터 중 \n",
    "#긍정'1'에 해당하는 데이터 칸에 1을 넣도록 for문 명령\n",
    "def vectorize_sequences(sequences, dimension=10000):\n",
    "    results = np.zeros((len(sequences),dimension))\n",
    "    \n",
    "    for i, sequence in enumerate(sequences):\n",
    "        results[i,sequence] = 1.\n",
    "    return results\n",
    "\n",
    "vectorize_sequences(train_data)"
   ]
  },
  {
   "cell_type": "code",
   "execution_count": 14,
   "id": "65d5c01b",
   "metadata": {},
   "outputs": [],
   "source": [
    "#위 결과데이터를 x_train/test 로 저장함\n",
    "x_train = vectorize_sequences(train_data)\n",
    "x_test = vectorize_sequences(test_data)"
   ]
  },
  {
   "cell_type": "code",
   "execution_count": 15,
   "id": "95631de6",
   "metadata": {},
   "outputs": [],
   "source": [
    "#데이터형태를 정수->실수로 바꿈\n",
    "y_train = np.asarray(train_label).astype('float32')\n",
    "y_test = np.asarray(test_label).astype('float32')"
   ]
  },
  {
   "cell_type": "code",
   "execution_count": 16,
   "id": "9ecaaafd",
   "metadata": {},
   "outputs": [],
   "source": [
    "#데이터 기본작업 끝. 신경망생성. 데이터가 많으므로 3개의 model이라는 이름으로 생성\n",
    "#신경망 안에 뉴런을 16개로 지정\n",
    "\n",
    "from keras import models\n",
    "from keras import layers\n",
    "\n",
    "#model.add(layers.dense(16=신경망갯수지정,엑티베이션펑션을 렐루로 지정))\n",
    "#model.add(layers.dense(1=신경망갯수지정, sigmoid 0/1둘중의 하나 변별력을 주기 위해 ))\n",
    "#첫번째 데이터만 nput_shape=(10000, 지정= 입력창구, 나머지는 뒤에서 연산되므로.\n",
    "\n",
    "\n",
    "model = models. Sequential()\n",
    "model.add(layers.Dense(16, activation='relu', input_shape=(10000,)))\n",
    "model.add(layers.Dense(16, activation='relu'))\n",
    "model.add(layers.Dense(1,  activation='sigmoid'))\n",
    "\n",
    " #' activation 탈자, D 대소문자 오타"
   ]
  },
  {
   "cell_type": "code",
   "execution_count": 17,
   "id": "901e99e6",
   "metadata": {},
   "outputs": [],
   "source": [
    "# model.compile(optimizer='rmsprop',\n",
    "#              loss='binary_crossentropy',\n",
    "#              metrics='accuracy')\n",
    "# # 시그모이드와 소프트맥스(다수) 사용시 분류문제라는것을 알수 있음\n",
    "# ##분류문제에는 crossentropy',1/0 둘중 하나로 분류일 경우 바이너리(다수일경우 카테고리컬)\n",
    "# #metrics=측정단위= '정확도'\n",
    "\n"
   ]
  },
  {
   "cell_type": "code",
   "execution_count": 18,
   "id": "f39bb180",
   "metadata": {},
   "outputs": [],
   "source": [
    "# x_val = x_train[:10000] #학습데이터 2만5천개중 앞에서부터 만개까지만 떼냄\n",
    "# partial_x_train = x_train[10000:] #만개이후 나머지부분을 저장\n",
    "\n",
    "# y_val = y_train[:10000] \n",
    "# partial_y_train = y_train[10000:]"
   ]
  },
  {
   "cell_type": "code",
   "execution_count": 19,
   "id": "2c0b0b8d",
   "metadata": {},
   "outputs": [],
   "source": [
    "# #잘라놓은 15000건의 데이터로 학습하고 나머지 위의 만건의 데이터로 검증\n",
    "# model.fit(partial_x_train, partial_y_train,\n",
    "#          epochs=20, batch_size=512) #epochs=학습횟수"
   ]
  },
  {
   "cell_type": "code",
   "execution_count": 20,
   "id": "940668df",
   "metadata": {},
   "outputs": [],
   "source": [
    "# #실행결과를 변수로 저장\n",
    "# # validation_data= 학습결과 토대로 만개로 검증\n",
    "# history = model.fit(partial_x_train, partial_y_train,\n",
    "#          epochs=20, batch_size=512, validation_data=(x_val, y_val))"
   ]
  },
  {
   "cell_type": "code",
   "execution_count": 21,
   "id": "15eee361",
   "metadata": {},
   "outputs": [],
   "source": [
    "# history.history\n",
    "# #실행결과\n",
    "# #accuracy': 정확도 'val_loss':검증손실값 'val_accuracy':검증정확도"
   ]
  },
  {
   "cell_type": "code",
   "execution_count": 22,
   "id": "f85ddb5c",
   "metadata": {},
   "outputs": [],
   "source": [
    "# history_dict = history.history\n",
    "# #검증결과 저장\n",
    "\n",
    "# history_dict.keys()\n",
    "# #검증결과 확인값 출력"
   ]
  },
  {
   "cell_type": "code",
   "execution_count": 23,
   "id": "d748b4dd",
   "metadata": {},
   "outputs": [],
   "source": [
    "# #위의 데이터를 그래프로 그려 학습중단시점을 판단\n",
    "# import matplotlib.pyplot as plt"
   ]
  },
  {
   "cell_type": "code",
   "execution_count": 24,
   "id": "bc90fb02",
   "metadata": {},
   "outputs": [],
   "source": [
    "# #그래프로 그릴 값 불러오기\n",
    "# acc = history.history['accuracy']\n",
    "# val_acc = history.history['val_accuracy']\n",
    "# loss = history.history['loss']\n",
    "# val_loss = history.history['val_loss']\n",
    "\n",
    "# #반복횟수 구하기\n",
    "# epochs = range(1, len(acc) + 1)"
   ]
  },
  {
   "cell_type": "code",
   "execution_count": 25,
   "id": "398d1f51",
   "metadata": {},
   "outputs": [],
   "source": [
    "# plt.plot(epochs,loss, 'bo', label='training loss')\n",
    "# plt.plot(epochs, val_loss, 'r-', label='validation loss') #  val_탈자\n",
    "# plt.title('training and validation loss')\n",
    "# plt.xlabel('Epochs') #label 오타 lable\n",
    "# plt.ylabel('Loss')\n",
    "# plt.legend()\n"
   ]
  },
  {
   "cell_type": "code",
   "execution_count": 26,
   "id": "3194ba70",
   "metadata": {},
   "outputs": [
    {
     "name": "stderr",
     "output_type": "stream",
     "text": [
      "C:\\Users\\Admin\\anaconda3\\lib\\site-packages\\keras\\optimizer_v2\\rmsprop.py:130: UserWarning: The `lr` argument is deprecated, use `learning_rate` instead.\n",
      "  super(RMSprop, self).__init__(name, **kwargs)\n"
     ]
    }
   ],
   "source": [
    "#학습정확도는 나쁘지 않으나 검증정확도가 너무 높음\n",
    "#매개변수 수정필요. 옵티마이저 부터 수정 \n",
    "\n",
    "from keras import losses\n",
    "from keras import metrics\n",
    "from tensorflow.keras import optimizers #ㄱ->ㅣ오타\n",
    "\n",
    "# 옵티마이저= 가중치 조절. 가중치조절시 RMSprop(lr=0.001) 로 에포크데이터에 과접합 막도록 가중치 설정\n",
    "model.compile(optimizer=optimizers. RMSprop(lr=0.001) ,\n",
    "              loss=losses.binary_crossentropy,\n",
    "              metrics=[metrics.binary_accuracy])"
   ]
  },
  {
   "cell_type": "code",
   "execution_count": 27,
   "id": "4173698e",
   "metadata": {},
   "outputs": [],
   "source": [
    "x_val = x_train[:10000]\n",
    "partial_x_train = x_train[10000:]\n",
    "\n",
    "y_val = y_train[:10000]\n",
    "partial_y_train = y_train[10000:]"
   ]
  },
  {
   "cell_type": "code",
   "execution_count": 28,
   "id": "9df7fdca",
   "metadata": {},
   "outputs": [
    {
     "name": "stdout",
     "output_type": "stream",
     "text": [
      "Epoch 1/3\n",
      "30/30 [==============================] - 20s 570ms/step - loss: 0.5191 - binary_accuracy: 0.7882 - val_loss: 0.3807 - val_binary_accuracy: 0.8741\n",
      "Epoch 2/3\n",
      "30/30 [==============================] - 4s 138ms/step - loss: 0.3055 - binary_accuracy: 0.9038 - val_loss: 0.3263 - val_binary_accuracy: 0.8728\n",
      "Epoch 3/3\n",
      "30/30 [==============================] - 4s 138ms/step - loss: 0.2227 - binary_accuracy: 0.9285 - val_loss: 0.3321 - val_binary_accuracy: 0.8638\n"
     ]
    }
   ],
   "source": [
    "history = model.fit(partial_x_train, \n",
    "          partial_y_train,\n",
    "          epochs=3,\n",
    "          batch_size=512,\n",
    "          validation_data=(x_val, y_val))"
   ]
  },
  {
   "cell_type": "code",
   "execution_count": 29,
   "id": "2bf99eff",
   "metadata": {},
   "outputs": [
    {
     "data": {
      "text/plain": [
       "dict_keys(['loss', 'binary_accuracy', 'val_loss', 'val_binary_accuracy'])"
      ]
     },
     "execution_count": 29,
     "metadata": {},
     "output_type": "execute_result"
    }
   ],
   "source": [
    "history_dict = history.history\n",
    "history_dict.keys()"
   ]
  },
  {
   "cell_type": "code",
   "execution_count": 30,
   "id": "fa3f6fb5",
   "metadata": {},
   "outputs": [],
   "source": [
    "import matplotlib.pyplot as plt"
   ]
  },
  {
   "cell_type": "code",
   "execution_count": 31,
   "id": "2a2fdaa8",
   "metadata": {},
   "outputs": [],
   "source": [
    "acc = history.history['binary_accuracy']\n",
    "val_acc = history.history['val_binary_accuracy']\n",
    "loss = history.history['loss']\n",
    "val_loss = history.history['val_loss']\n",
    "\n",
    "epochs = range(1, len(acc) + 1)\n",
    "#속성, 메소드명은 계속 바뀔 수 있으니 에러나오면 당황하지 말고 검색하거나 런타임재실행"
   ]
  },
  {
   "cell_type": "code",
   "execution_count": 32,
   "id": "1416c87c",
   "metadata": {},
   "outputs": [
    {
     "data": {
      "text/plain": [
       "<matplotlib.legend.Legend at 0x2009416bcd0>"
      ]
     },
     "execution_count": 32,
     "metadata": {},
     "output_type": "execute_result"
    },
    {
     "data": {
      "image/png": "[encoded data removed]",
      "text/plain": [
       "<Figure size 432x288 with 1 Axes>"
      ]
     },
     "metadata": {
      "needs_background": "light"
     },
     "output_type": "display_data"
    }
   ],
   "source": [
    "plt.plot(epochs, loss, 'bo', label='Training loss')\n",
    "plt.plot(epochs, val_loss, 'r-', label='Validation loss')\n",
    "plt.title('Trining and validation loss')\n",
    "plt.xlabel('Epochs')\n",
    "plt.ylabel('Loss')\n",
    "plt.legend()\n",
    "# 에포크를 20에서 4로 줄일때가 정확함을 확인"
   ]
  },
  {
   "cell_type": "code",
   "execution_count": 33,
   "id": "cd048100",
   "metadata": {},
   "outputs": [
    {
     "data": {
      "text/plain": [
       "<matplotlib.legend.Legend at 0x200940debb0>"
      ]
     },
     "execution_count": 33,
     "metadata": {},
     "output_type": "execute_result"
    },
    {
     "data": {
      "image/png": "[encoded data removed]",
      "text/plain": [
       "<Figure size 432x288 with 1 Axes>"
      ]
     },
     "metadata": {
      "needs_background": "light"
     },
     "output_type": "display_data"
    }
   ],
   "source": [
    "plt.plot(epochs, acc, 'bo', label='Training acc')\n",
    "plt.plot(epochs, val_acc, 'r-', label='Validation acc')\n",
    "plt.title('Training and validation accuracy')\n",
    "plt.xlabel('Epochs')\n",
    "plt.ylabel('Accuracy')\n",
    "plt.legend()\n",
    "#에포크 20에서 2로 줄일때가 정확함을 확인"
   ]
  },
  {
   "cell_type": "markdown",
   "id": "bff1ece8",
   "metadata": {},
   "source": [
    "#상황에 맞춰 에포크를 조정해야함<p>\n",
    " 로스값이 작은것=수치를 정확히 맞추고싶을때 적용<p>\n",
    " 정확도가 작은것=흐름(트렌드)을 맞추고 싶을때 적용<p>\n",
    "#데이터관련직종에 들어가면 실무에서 여러상황들로 쌓인 감을 토대로 에포크수 등을 결정해야함<p>"
   ]
  },
  {
   "cell_type": "code",
   "execution_count": 34,
   "id": "484fa581",
   "metadata": {},
   "outputs": [
    {
     "name": "stdout",
     "output_type": "stream",
     "text": [
      "782/782 [==============================] - 8s 9ms/step - loss: 0.3439 - binary_accuracy: 0.8576\n"
     ]
    }
   ],
   "source": [
    "# 위 데이터의 평가값을 리절트로 저장\n",
    "results = model.evaluate(x_test, y_test)"
   ]
  },
  {
   "cell_type": "code",
   "execution_count": 35,
   "id": "4a354319",
   "metadata": {},
   "outputs": [
    {
     "data": {
      "text/plain": [
       "[0.3439481556415558, 0.8576400279998779]"
      ]
     },
     "execution_count": 35,
     "metadata": {},
     "output_type": "execute_result"
    }
   ],
   "source": [
    "results"
   ]
  },
  {
   "cell_type": "code",
   "execution_count": 36,
   "id": "e04607e3",
   "metadata": {},
   "outputs": [
    {
     "data": {
      "text/plain": [
       "array([[0.38637066],\n",
       "       [0.9993852 ],\n",
       "       [0.99072134],\n",
       "       ...,\n",
       "       [0.26005745],\n",
       "       [0.2851851 ],\n",
       "       [0.8018201 ]], dtype=float32)"
      ]
     },
     "execution_count": 36,
     "metadata": {},
     "output_type": "execute_result"
    }
   ],
   "source": [
    "#정확도는 87% 로스값은 0.31\n",
    "#따라서 이모델은 83%의 정확도로 리뷰를 긍/부정을 구분해내는 모델 생성함.\n",
    "##할때마다 달라지는 수치임.\n",
    "\n",
    "#83%의 정확도모델로 예측해봄\n",
    "model.predict(x_test)#x_test값을 넣으면 y_test값이 나옴"
   ]
  },
  {
   "cell_type": "code",
   "execution_count": 37,
   "id": "ab1b22c7",
   "metadata": {},
   "outputs": [],
   "source": [
    "#배열의 각 수치 중 1에 가까운 도출값일수록 긍정적인 리뷰라는 증거"
   ]
  }
 ],
 "metadata": {
  "kernelspec": {
   "display_name": "Python 3 (ipykernel)",
   "language": "python",
   "name": "python3"
  },
  "language_info": {
   "codemirror_mode": {
    "name": "ipython",
    "version": 3
   },
   "file_extension": ".py",
   "mimetype": "text/x-python",
   "name": "python",
   "nbconvert_exporter": "python",
   "pygments_lexer": "ipython3",
   "version": "3.9.7"
  }
 },
 "nbformat": 4,
 "nbformat_minor": 5
}
