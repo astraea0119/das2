{
 "cells": [
  {
   "cell_type": "code",
   "execution_count": 1,
   "id": "80de0fc3",
   "metadata": {},
   "outputs": [
    {
     "data": {
      "text/plain": [
       "'2.8.0'"
      ]
     },
     "execution_count": 1,
     "metadata": {},
     "output_type": "execute_result"
    }
   ],
   "source": [
    "import keras\n",
    "keras.__version__"
   ]
  },
  {
   "cell_type": "code",
   "execution_count": 2,
   "id": "de886078",
   "metadata": {},
   "outputs": [],
   "source": [
    "from keras import layers\n",
    "from keras import models\n",
    "\n",
    "model= models.Sequential()\n",
    "#레이어3개설정\n",
    "#2d에 들어가는 갯수32, 3*3=합성곱의 갯수 지정,\n",
    "#인풋모양 설정(행,열갯수, 흑백=1 칼라일경우3(rbg))\n",
    "model.add(layers.Conv2D(32,(3,3), activation='relu',input_shape=(28,28,1))) #imput오타 hape=(2등호 탈자\n",
    "#CNN의 기본공식 레이어 사이에 넣어줘야함 MaxPool2D(=사소한변화를 무시하고 걸러줌\n",
    "#MaxPool2D(와 Conv2D는 세트로 사용\n",
    "model.add(layers.MaxPool2D((2,2)))\n",
    "model.add(layers.Conv2D(64,(3,3),activation='relu'))\n",
    "model.add(layers.MaxPool2D((2,2)))\n",
    "model.add(layers.Conv2D(64,(3,3),activation='relu'))"
   ]
  },
  {
   "cell_type": "code",
   "execution_count": 3,
   "id": "75eaff63",
   "metadata": {},
   "outputs": [
    {
     "name": "stdout",
     "output_type": "stream",
     "text": [
      "Model: \"sequential\"\n",
      "_________________________________________________________________\n",
      " Layer (type)                Output Shape              Param #   \n",
      "=================================================================\n",
      " conv2d (Conv2D)             (None, 26, 26, 32)        320       \n",
      "                                                                 \n",
      " max_pooling2d (MaxPooling2D  (None, 13, 13, 32)       0         \n",
      " )                                                               \n",
      "                                                                 \n",
      " conv2d_1 (Conv2D)           (None, 11, 11, 64)        18496     \n",
      "                                                                 \n",
      " max_pooling2d_1 (MaxPooling  (None, 5, 5, 64)         0         \n",
      " 2D)                                                             \n",
      "                                                                 \n",
      " conv2d_2 (Conv2D)           (None, 3, 3, 64)          36928     \n",
      "                                                                 \n",
      "=================================================================\n",
      "Total params: 55,744\n",
      "Trainable params: 55,744\n",
      "Non-trainable params: 0\n",
      "_________________________________________________________________\n"
     ]
    }
   ],
   "source": [
    "model.summary()"
   ]
  },
  {
   "cell_type": "markdown",
   "id": "e75768bd",
   "metadata": {},
   "source": [
    "## flatten 레이어\n",
    "화면을 일차원으로 바꿔주는 레이어(벡터이미지처럼)"
   ]
  },
  {
   "cell_type": "code",
   "execution_count": 4,
   "id": "026c916f",
   "metadata": {},
   "outputs": [],
   "source": [
    "model.add(layers.Flatten())\n",
    "model.add(layers.Dense(64, activation='relu'))\n",
    "model.add(layers.Dense(10, activation='softmax'))\n",
    "#숫자가 0~9까지 이니 데이터갯수는 10"
   ]
  },
  {
   "cell_type": "code",
   "execution_count": 5,
   "id": "16be89ff",
   "metadata": {},
   "outputs": [
    {
     "name": "stdout",
     "output_type": "stream",
     "text": [
      "Model: \"sequential\"\n",
      "_________________________________________________________________\n",
      " Layer (type)                Output Shape              Param #   \n",
      "=================================================================\n",
      " conv2d (Conv2D)             (None, 26, 26, 32)        320       \n",
      "                                                                 \n",
      " max_pooling2d (MaxPooling2D  (None, 13, 13, 32)       0         \n",
      " )                                                               \n",
      "                                                                 \n",
      " conv2d_1 (Conv2D)           (None, 11, 11, 64)        18496     \n",
      "                                                                 \n",
      " max_pooling2d_1 (MaxPooling  (None, 5, 5, 64)         0         \n",
      " 2D)                                                             \n",
      "                                                                 \n",
      " conv2d_2 (Conv2D)           (None, 3, 3, 64)          36928     \n",
      "                                                                 \n",
      " flatten (Flatten)           (None, 576)               0         \n",
      "                                                                 \n",
      " dense (Dense)               (None, 64)                36928     \n",
      "                                                                 \n",
      " dense_1 (Dense)             (None, 10)                650       \n",
      "                                                                 \n",
      "=================================================================\n",
      "Total params: 93,322\n",
      "Trainable params: 93,322\n",
      "Non-trainable params: 0\n",
      "_________________________________________________________________\n"
     ]
    }
   ],
   "source": [
    "model.summary()"
   ]
  },
  {
   "cell_type": "code",
   "execution_count": 6,
   "id": "dd096fd1",
   "metadata": {},
   "outputs": [],
   "source": [
    "#해석=더 많은신경망사용 총 파라메터의 개수를 보면 짐작가능\n",
    "from keras.datasets import mnist\n",
    "from tensorflow.keras.utils import to_categorical\n",
    "#범주형데이터 만들기위해입력할 명령어to_categorical\n",
    "\n",
    "(train_images, train_labels),(test_images, test_labels) = mnist.load_data()"
   ]
  },
  {
   "cell_type": "code",
   "execution_count": 7,
   "id": "7e97781c",
   "metadata": {},
   "outputs": [],
   "source": [
    "train_images = train_images.reshape((60000,28,28,1))\n",
    "#위에서 인풋모양28,28,1)) 입력\n",
    "train_images = train_images.astype('float32') /255\n",
    "#28*28=256 이므로 한 이미지데이터안에는 255개 셀이 있음 \n",
    "#따라서 /255로 나눠야 그레이스케일데이터에 적함한 조건됨.\n",
    "test_images = test_images.reshape((10000,28,28,1))\n",
    "test_images = test_images.astype('float32') /255\n",
    "\n",
    "train_labels = to_categorical(train_labels)\n",
    "test_labels = to_categorical(test_labels)"
   ]
  },
  {
   "cell_type": "code",
   "execution_count": 8,
   "id": "c6316c04",
   "metadata": {},
   "outputs": [],
   "source": [
    "#손실, 로스 지정해주는 작업으로 마무리 \n",
    "from keras import metrics\n",
    "model.compile(optimizer='rmsprop',\n",
    "              loss='categorical_crossentropy',\n",
    "              metrics=['accuracy'])\n",
    "\n",
    "# loss= 마지막레이어와 연동됨.\n",
    "#소프트맥스의 경우'categorical_crossentropy',로 지정\n",
    "#단위 metrics=['accuracy' 정확도"
   ]
  },
  {
   "cell_type": "code",
   "execution_count": 9,
   "id": "8950a336",
   "metadata": {},
   "outputs": [
    {
     "name": "stdout",
     "output_type": "stream",
     "text": [
      "Epoch 1/5\n",
      "938/938 [==============================] - 227s 239ms/step - loss: 0.1779 - accuracy: 0.9438\n",
      "Epoch 2/5\n",
      "938/938 [==============================] - 219s 234ms/step - loss: 0.0469 - accuracy: 0.9854\n",
      "Epoch 3/5\n",
      "938/938 [==============================] - 216s 230ms/step - loss: 0.0329 - accuracy: 0.9901\n",
      "Epoch 4/5\n",
      "938/938 [==============================] - 215s 229ms/step - loss: 0.0250 - accuracy: 0.9925\n",
      "Epoch 5/5\n",
      "938/938 [==============================] - 215s 229ms/step - loss: 0.0193 - accuracy: 0.9939\n"
     ]
    },
    {
     "data": {
      "text/plain": [
       "<keras.callbacks.History at 0x2bf35ed5f40>"
      ]
     },
     "execution_count": 9,
     "metadata": {},
     "output_type": "execute_result"
    }
   ],
   "source": [
    "#학습시킴\n",
    "model.fit(train_images, train_labels, epochs=5, batch_size=64)"
   ]
  },
  {
   "cell_type": "code",
   "execution_count": 10,
   "id": "19852e25",
   "metadata": {},
   "outputs": [
    {
     "name": "stdout",
     "output_type": "stream",
     "text": [
      "313/313 [==============================] - 16s 49ms/step - loss: 0.0285 - accuracy: 0.9918\n"
     ]
    }
   ],
   "source": [
    "#학습평가\n",
    "test_loss, test_acc = model.evaluate(test_images,test_labels)"
   ]
  },
  {
   "cell_type": "code",
   "execution_count": 11,
   "id": "2a51f9e4",
   "metadata": {},
   "outputs": [
    {
     "data": {
      "text/plain": [
       "0.9918000102043152"
      ]
     },
     "execution_count": 11,
     "metadata": {},
     "output_type": "execute_result"
    }
   ],
   "source": [
    "test_acc"
   ]
  },
  {
   "cell_type": "markdown",
   "id": "2e8220eb",
   "metadata": {},
   "source": [
    "확률 99%의 신경망이 생성됨"
   ]
  }
 ],
 "metadata": {
  "kernelspec": {
   "display_name": "Python 3 (ipykernel)",
   "language": "python",
   "name": "python3"
  },
  "language_info": {
   "codemirror_mode": {
    "name": "ipython",
    "version": 3
   },
   "file_extension": ".py",
   "mimetype": "text/x-python",
   "name": "python",
   "nbconvert_exporter": "python",
   "pygments_lexer": "ipython3",
   "version": "3.9.7"
  }
 },
 "nbformat": 4,
 "nbformat_minor": 5
}
