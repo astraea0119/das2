{
 "cells": [
  {
   "cell_type": "markdown",
   "id": "de3f8360",
   "metadata": {},
   "source": [
    "## 기초분석\n",
    "Pandas는 데이터를 구조적인 측면에서 좀 더 편하게 다룰 수 있게 하는 장점을 모아서 만든 패키지로 Pandas에서 제공하는 통계 분석은 기술 통계 및 데이터 요약이다. 고급 통계 기법은 scikit-learn이나 다른 통계 패키지를 이용하여 수행 할 수 있다."
   ]
  },
  {
   "cell_type": "code",
   "execution_count": 1,
   "id": "b58126c6",
   "metadata": {},
   "outputs": [],
   "source": [
    "from pandas import Series, DataFrame\n",
    "import pandas as pd"
   ]
  },
  {
   "cell_type": "code",
   "execution_count": 2,
   "id": "78300efd",
   "metadata": {},
   "outputs": [],
   "source": [
    "#German credit data 입력\n",
    "german = pd.read_csv('http://freakonometrics.free.fr/german_credit.csv')"
   ]
  },
  {
   "cell_type": "code",
   "execution_count": 4,
   "id": "f5d63548",
   "metadata": {},
   "outputs": [
    {
     "data": {
      "text/plain": [
       "array(['Creditability', 'Account Balance', 'Duration of Credit (month)',\n",
       "       'Payment Status of Previous Credit', 'Purpose', 'Credit Amount',\n",
       "       'Value Savings/Stocks', 'Length of current employment',\n",
       "       'Instalment per cent', 'Sex & Marital Status', 'Guarantors',\n",
       "       'Duration in Current address', 'Most valuable available asset',\n",
       "       'Age (years)', 'Concurrent Credits', 'Type of apartment',\n",
       "       'No of Credits at this Bank', 'Occupation', 'No of dependents',\n",
       "       'Telephone', 'Foreign Worker'], dtype=object)"
      ]
     },
     "execution_count": 4,
     "metadata": {},
     "output_type": "execute_result"
    }
   ],
   "source": [
    "german.columns.values"
   ]
  },
  {
   "cell_type": "code",
   "execution_count": 5,
   "id": "09d1c3a5",
   "metadata": {},
   "outputs": [
    {
     "data": {
      "text/plain": [
       "['Creditability',\n",
       " 'Account Balance',\n",
       " 'Duration of Credit (month)',\n",
       " 'Payment Status of Previous Credit',\n",
       " 'Purpose',\n",
       " 'Credit Amount',\n",
       " 'Value Savings/Stocks',\n",
       " 'Length of current employment',\n",
       " 'Instalment per cent',\n",
       " 'Sex & Marital Status',\n",
       " 'Guarantors',\n",
       " 'Duration in Current address',\n",
       " 'Most valuable available asset',\n",
       " 'Age (years)',\n",
       " 'Concurrent Credits',\n",
       " 'Type of apartment',\n",
       " 'No of Credits at this Bank',\n",
       " 'Occupation',\n",
       " 'No of dependents',\n",
       " 'Telephone',\n",
       " 'Foreign Worker']"
      ]
     },
     "execution_count": 5,
     "metadata": {},
     "output_type": "execute_result"
    }
   ],
   "source": [
    "#list로 변환시켜 받음\n",
    "list(german.columns.values)"
   ]
  },
  {
   "cell_type": "code",
   "execution_count": 6,
   "id": "8e1478b2",
   "metadata": {},
   "outputs": [],
   "source": [
    "#컬럼만 가져옴\n",
    "german_sample=german[['Creditability', 'Duration of Credit (month)','Purpose','Credit Amount']]"
   ]
  },
  {
   "cell_type": "code",
   "execution_count": 7,
   "id": "39cc395d",
   "metadata": {},
   "outputs": [
    {
     "data": {
      "text/html": [
       "<div>\n",
       "<style scoped>\n",
       "    .dataframe tbody tr th:only-of-type {\n",
       "        vertical-align: middle;\n",
       "    }\n",
       "\n",
       "    .dataframe tbody tr th {\n",
       "        vertical-align: top;\n",
       "    }\n",
       "\n",
       "    .dataframe thead th {\n",
       "        text-align: right;\n",
       "    }\n",
       "</style>\n",
       "<table border=\"1\" class=\"dataframe\">\n",
       "  <thead>\n",
       "    <tr style=\"text-align: right;\">\n",
       "      <th></th>\n",
       "      <th>Creditability</th>\n",
       "      <th>Duration of Credit (month)</th>\n",
       "      <th>Purpose</th>\n",
       "      <th>Credit Amount</th>\n",
       "    </tr>\n",
       "  </thead>\n",
       "  <tbody>\n",
       "    <tr>\n",
       "      <th>0</th>\n",
       "      <td>1</td>\n",
       "      <td>18</td>\n",
       "      <td>2</td>\n",
       "      <td>1049</td>\n",
       "    </tr>\n",
       "    <tr>\n",
       "      <th>1</th>\n",
       "      <td>1</td>\n",
       "      <td>9</td>\n",
       "      <td>0</td>\n",
       "      <td>2799</td>\n",
       "    </tr>\n",
       "    <tr>\n",
       "      <th>2</th>\n",
       "      <td>1</td>\n",
       "      <td>12</td>\n",
       "      <td>9</td>\n",
       "      <td>841</td>\n",
       "    </tr>\n",
       "    <tr>\n",
       "      <th>3</th>\n",
       "      <td>1</td>\n",
       "      <td>12</td>\n",
       "      <td>0</td>\n",
       "      <td>2122</td>\n",
       "    </tr>\n",
       "    <tr>\n",
       "      <th>4</th>\n",
       "      <td>1</td>\n",
       "      <td>12</td>\n",
       "      <td>0</td>\n",
       "      <td>2171</td>\n",
       "    </tr>\n",
       "    <tr>\n",
       "      <th>...</th>\n",
       "      <td>...</td>\n",
       "      <td>...</td>\n",
       "      <td>...</td>\n",
       "      <td>...</td>\n",
       "    </tr>\n",
       "    <tr>\n",
       "      <th>995</th>\n",
       "      <td>0</td>\n",
       "      <td>24</td>\n",
       "      <td>3</td>\n",
       "      <td>1987</td>\n",
       "    </tr>\n",
       "    <tr>\n",
       "      <th>996</th>\n",
       "      <td>0</td>\n",
       "      <td>24</td>\n",
       "      <td>0</td>\n",
       "      <td>2303</td>\n",
       "    </tr>\n",
       "    <tr>\n",
       "      <th>997</th>\n",
       "      <td>0</td>\n",
       "      <td>21</td>\n",
       "      <td>0</td>\n",
       "      <td>12680</td>\n",
       "    </tr>\n",
       "    <tr>\n",
       "      <th>998</th>\n",
       "      <td>0</td>\n",
       "      <td>12</td>\n",
       "      <td>3</td>\n",
       "      <td>6468</td>\n",
       "    </tr>\n",
       "    <tr>\n",
       "      <th>999</th>\n",
       "      <td>0</td>\n",
       "      <td>30</td>\n",
       "      <td>2</td>\n",
       "      <td>6350</td>\n",
       "    </tr>\n",
       "  </tbody>\n",
       "</table>\n",
       "<p>1000 rows × 4 columns</p>\n",
       "</div>"
      ],
      "text/plain": [
       "     Creditability  Duration of Credit (month)  Purpose  Credit Amount\n",
       "0                1                          18        2           1049\n",
       "1                1                           9        0           2799\n",
       "2                1                          12        9            841\n",
       "3                1                          12        0           2122\n",
       "4                1                          12        0           2171\n",
       "..             ...                         ...      ...            ...\n",
       "995              0                          24        3           1987\n",
       "996              0                          24        0           2303\n",
       "997              0                          21        0          12680\n",
       "998              0                          12        3           6468\n",
       "999              0                          30        2           6350\n",
       "\n",
       "[1000 rows x 4 columns]"
      ]
     },
     "execution_count": 7,
     "metadata": {},
     "output_type": "execute_result"
    }
   ],
   "source": [
    "german_sample"
   ]
  },
  {
   "cell_type": "code",
   "execution_count": 8,
   "id": "aba20992",
   "metadata": {},
   "outputs": [
    {
     "data": {
      "text/plain": [
       "Creditability                   0\n",
       "Duration of Credit (month)      4\n",
       "Purpose                         0\n",
       "Credit Amount                 250\n",
       "dtype: int64"
      ]
     },
     "execution_count": 8,
     "metadata": {},
     "output_type": "execute_result"
    }
   ],
   "source": [
    "#  불러들인 4개의 컬럼의 최소값 찾아내기\n",
    "german_sample.min()"
   ]
  },
  {
   "cell_type": "code",
   "execution_count": 9,
   "id": "8751d879",
   "metadata": {},
   "outputs": [
    {
     "data": {
      "text/plain": [
       "Creditability                     1\n",
       "Duration of Credit (month)       72\n",
       "Purpose                          10\n",
       "Credit Amount                 18424\n",
       "dtype: int64"
      ]
     },
     "execution_count": 9,
     "metadata": {},
     "output_type": "execute_result"
    }
   ],
   "source": [
    "german_sample.max()"
   ]
  },
  {
   "cell_type": "code",
   "execution_count": 11,
   "id": "ac21578a",
   "metadata": {},
   "outputs": [
    {
     "data": {
      "text/plain": [
       "Creditability                    0.700\n",
       "Duration of Credit (month)      20.903\n",
       "Purpose                          2.828\n",
       "Credit Amount                 3271.248\n",
       "dtype: float64"
      ]
     },
     "execution_count": 11,
     "metadata": {},
     "output_type": "execute_result"
    }
   ],
   "source": [
    "#평균값\n",
    "german_sample.mean()"
   ]
  },
  {
   "cell_type": "code",
   "execution_count": 13,
   "id": "8bbc4d23",
   "metadata": {},
   "outputs": [
    {
     "data": {
      "text/plain": [
       "<bound method NDFrame.describe of      Creditability  Duration of Credit (month)  Purpose  Credit Amount\n",
       "0                1                          18        2           1049\n",
       "1                1                           9        0           2799\n",
       "2                1                          12        9            841\n",
       "3                1                          12        0           2122\n",
       "4                1                          12        0           2171\n",
       "..             ...                         ...      ...            ...\n",
       "995              0                          24        3           1987\n",
       "996              0                          24        0           2303\n",
       "997              0                          21        0          12680\n",
       "998              0                          12        3           6468\n",
       "999              0                          30        2           6350\n",
       "\n",
       "[1000 rows x 4 columns]>"
      ]
     },
     "execution_count": 13,
     "metadata": {},
     "output_type": "execute_result"
    }
   ],
   "source": [
    "german_sample.describe\n",
    "#전체요약"
   ]
  },
  {
   "cell_type": "markdown",
   "id": "3272ab52",
   "metadata": {},
   "source": [
    "## 상관관계와 공분산\n",
    "\n",
    "공분산(Covariance) : X의 편차와 Y의 편차를 곱한 것의 평균, X와 Y의 단위에 영향을 받는다.\n",
    "\n",
    "상관계수(Correlation) : 확률변수의 절대적 크기에 영향을 받지 않도록 단위화, 분산의 크기만큼 나눔"
   ]
  },
  {
   "cell_type": "code",
   "execution_count": 16,
   "id": "85c05a93",
   "metadata": {},
   "outputs": [],
   "source": [
    "german_sample=german[['Duration of Credit (month)','Credit Amount','Age (years)']]"
   ]
  },
  {
   "cell_type": "code",
   "execution_count": 18,
   "id": "0c471c33",
   "metadata": {},
   "outputs": [
    {
     "data": {
      "text/html": [
       "<div>\n",
       "<style scoped>\n",
       "    .dataframe tbody tr th:only-of-type {\n",
       "        vertical-align: middle;\n",
       "    }\n",
       "\n",
       "    .dataframe tbody tr th {\n",
       "        vertical-align: top;\n",
       "    }\n",
       "\n",
       "    .dataframe thead th {\n",
       "        text-align: right;\n",
       "    }\n",
       "</style>\n",
       "<table border=\"1\" class=\"dataframe\">\n",
       "  <thead>\n",
       "    <tr style=\"text-align: right;\">\n",
       "      <th></th>\n",
       "      <th>Duration of Credit (month)</th>\n",
       "      <th>Credit Amount</th>\n",
       "      <th>Age (years)</th>\n",
       "    </tr>\n",
       "  </thead>\n",
       "  <tbody>\n",
       "    <tr>\n",
       "      <th>Duration of Credit (month)</th>\n",
       "      <td>1.000000</td>\n",
       "      <td>0.624988</td>\n",
       "      <td>-0.037550</td>\n",
       "    </tr>\n",
       "    <tr>\n",
       "      <th>Credit Amount</th>\n",
       "      <td>0.624988</td>\n",
       "      <td>1.000000</td>\n",
       "      <td>0.032273</td>\n",
       "    </tr>\n",
       "    <tr>\n",
       "      <th>Age (years)</th>\n",
       "      <td>-0.037550</td>\n",
       "      <td>0.032273</td>\n",
       "      <td>1.000000</td>\n",
       "    </tr>\n",
       "  </tbody>\n",
       "</table>\n",
       "</div>"
      ],
      "text/plain": [
       "                            Duration of Credit (month)  Credit Amount  \\\n",
       "Duration of Credit (month)                    1.000000       0.624988   \n",
       "Credit Amount                                 0.624988       1.000000   \n",
       "Age (years)                                  -0.037550       0.032273   \n",
       "\n",
       "                            Age (years)  \n",
       "Duration of Credit (month)    -0.037550  \n",
       "Credit Amount                  0.032273  \n",
       "Age (years)                    1.000000  "
      ]
     },
     "execution_count": 18,
     "metadata": {},
     "output_type": "execute_result"
    }
   ],
   "source": [
    "#상관계수\n",
    "german_sample.corr()"
   ]
  },
  {
   "cell_type": "markdown",
   "id": "f04033e7",
   "metadata": {},
   "source": [
    "### 해석\n",
    "Duration of Credit (month)= Duration of Credit 과\tCredit Amount은 상관관계 있음. Age (years)는 없음\n"
   ]
  },
  {
   "cell_type": "code",
   "execution_count": 19,
   "id": "c7ce0aa3",
   "metadata": {},
   "outputs": [],
   "source": [
    "german_sample=german[['Credit Amount','Type of apartment']]"
   ]
  },
  {
   "cell_type": "code",
   "execution_count": 20,
   "id": "9083843f",
   "metadata": {},
   "outputs": [
    {
     "data": {
      "text/html": [
       "<div>\n",
       "<style scoped>\n",
       "    .dataframe tbody tr th:only-of-type {\n",
       "        vertical-align: middle;\n",
       "    }\n",
       "\n",
       "    .dataframe tbody tr th {\n",
       "        vertical-align: top;\n",
       "    }\n",
       "\n",
       "    .dataframe thead th {\n",
       "        text-align: right;\n",
       "    }\n",
       "</style>\n",
       "<table border=\"1\" class=\"dataframe\">\n",
       "  <thead>\n",
       "    <tr style=\"text-align: right;\">\n",
       "      <th></th>\n",
       "      <th>Credit Amount</th>\n",
       "      <th>Type of apartment</th>\n",
       "    </tr>\n",
       "  </thead>\n",
       "  <tbody>\n",
       "    <tr>\n",
       "      <th>0</th>\n",
       "      <td>1049</td>\n",
       "      <td>1</td>\n",
       "    </tr>\n",
       "    <tr>\n",
       "      <th>1</th>\n",
       "      <td>2799</td>\n",
       "      <td>1</td>\n",
       "    </tr>\n",
       "    <tr>\n",
       "      <th>2</th>\n",
       "      <td>841</td>\n",
       "      <td>1</td>\n",
       "    </tr>\n",
       "    <tr>\n",
       "      <th>3</th>\n",
       "      <td>2122</td>\n",
       "      <td>1</td>\n",
       "    </tr>\n",
       "    <tr>\n",
       "      <th>4</th>\n",
       "      <td>2171</td>\n",
       "      <td>2</td>\n",
       "    </tr>\n",
       "    <tr>\n",
       "      <th>...</th>\n",
       "      <td>...</td>\n",
       "      <td>...</td>\n",
       "    </tr>\n",
       "    <tr>\n",
       "      <th>995</th>\n",
       "      <td>1987</td>\n",
       "      <td>1</td>\n",
       "    </tr>\n",
       "    <tr>\n",
       "      <th>996</th>\n",
       "      <td>2303</td>\n",
       "      <td>2</td>\n",
       "    </tr>\n",
       "    <tr>\n",
       "      <th>997</th>\n",
       "      <td>12680</td>\n",
       "      <td>3</td>\n",
       "    </tr>\n",
       "    <tr>\n",
       "      <th>998</th>\n",
       "      <td>6468</td>\n",
       "      <td>2</td>\n",
       "    </tr>\n",
       "    <tr>\n",
       "      <th>999</th>\n",
       "      <td>6350</td>\n",
       "      <td>2</td>\n",
       "    </tr>\n",
       "  </tbody>\n",
       "</table>\n",
       "<p>1000 rows × 2 columns</p>\n",
       "</div>"
      ],
      "text/plain": [
       "     Credit Amount  Type of apartment\n",
       "0             1049                  1\n",
       "1             2799                  1\n",
       "2              841                  1\n",
       "3             2122                  1\n",
       "4             2171                  2\n",
       "..             ...                ...\n",
       "995           1987                  1\n",
       "996           2303                  2\n",
       "997          12680                  3\n",
       "998           6468                  2\n",
       "999           6350                  2\n",
       "\n",
       "[1000 rows x 2 columns]"
      ]
     },
     "execution_count": 20,
     "metadata": {},
     "output_type": "execute_result"
    }
   ],
   "source": [
    "german_sample"
   ]
  },
  {
   "cell_type": "code",
   "execution_count": 23,
   "id": "8c9a6d1a",
   "metadata": {},
   "outputs": [
    {
     "data": {
      "text/plain": [
       "<pandas.core.groupby.generic.SeriesGroupBy object at 0x000002508CF24AF0>"
      ]
     },
     "execution_count": 23,
     "metadata": {},
     "output_type": "execute_result"
    }
   ],
   "source": [
    "#주거종류가 3가지인것으로 추측\n",
    "#주거종류에 따라 Credit Amount 통계내기\n",
    "german_grouped=german_sample['Credit Amount'].groupby(german_sample['Type of apartment'])\n",
    "german_grouped"
   ]
  },
  {
   "cell_type": "code",
   "execution_count": 24,
   "id": "77d88806",
   "metadata": {},
   "outputs": [
    {
     "data": {
      "text/plain": [
       "Type of apartment\n",
       "1    3122.553073\n",
       "2    3067.257703\n",
       "3    4881.205607\n",
       "Name: Credit Amount, dtype: float64"
      ]
     },
     "execution_count": 24,
     "metadata": {},
     "output_type": "execute_result"
    }
   ],
   "source": [
    "#그룹별로 평균값도출하기\n",
    "german_grouped.mean()"
   ]
  },
  {
   "cell_type": "code",
   "execution_count": 33,
   "id": "bcb04fe4",
   "metadata": {},
   "outputs": [
    {
     "data": {
      "text/plain": [
       "<pandas.core.groupby.generic.SeriesGroupBy object at 0x000002508D1C3250>"
      ]
     },
     "execution_count": 33,
     "metadata": {},
     "output_type": "execute_result"
    }
   ],
   "source": [
    "german_sample = german[['Credit Amount','Type of apartment','Purpose']]\n",
    "german_grouped = german_sample['Credit Amount'].groupby(\n",
    "                            [german_sample['Purpose'],\n",
    "                            german_sample['Type of apartment']])\n",
    "german_grouped"
   ]
  },
  {
   "cell_type": "code",
   "execution_count": 34,
   "id": "08828619",
   "metadata": {},
   "outputs": [
    {
     "data": {
      "text/plain": [
       "Purpose  Type of apartment\n",
       "0        1                    2597.225000\n",
       "         2                    2811.024242\n",
       "         3                    5138.689655\n",
       "1        1                    5037.086957\n",
       "         2                    4915.222222\n",
       "         3                    6609.923077\n",
       "2        1                    2727.354167\n",
       "         2                    3107.450820\n",
       "         3                    4100.181818\n",
       "3        1                    2199.763158\n",
       "         2                    2540.533040\n",
       "         3                    2417.333333\n",
       "4        1                    1255.500000\n",
       "         2                    1546.500000\n",
       "5        1                    1522.000000\n",
       "         2                    2866.000000\n",
       "         3                    2750.666667\n",
       "6        1                    3156.444444\n",
       "         2                    2492.423077\n",
       "         3                    4387.266667\n",
       "8        1                     902.000000\n",
       "         2                    1243.875000\n",
       "9        1                    5614.125000\n",
       "         2                    3800.592105\n",
       "         3                    4931.800000\n",
       "10       2                    8576.111111\n",
       "         3                    7109.000000\n",
       "Name: Credit Amount, dtype: float64"
      ]
     },
     "execution_count": 34,
     "metadata": {},
     "output_type": "execute_result"
    }
   ],
   "source": [
    "#서브그룹핑 해서 서브그룹별 평균까지 도출가능\n",
    "german_grouped.mean()"
   ]
  },
  {
   "cell_type": "code",
   "execution_count": null,
   "id": "0a25a5f8",
   "metadata": {},
   "outputs": [],
   "source": []
  }
 ],
 "metadata": {
  "kernelspec": {
   "display_name": "Python 3 (ipykernel)",
   "language": "python",
   "name": "python3"
  },
  "language_info": {
   "codemirror_mode": {
    "name": "ipython",
    "version": 3
   },
   "file_extension": ".py",
   "mimetype": "text/x-python",
   "name": "python",
   "nbconvert_exporter": "python",
   "pygments_lexer": "ipython3",
   "version": "3.9.7"
  }
 },
 "nbformat": 4,
 "nbformat_minor": 5
}
