{
 "cells": [
  {
   "cell_type": "code",
   "execution_count": 1,
   "id": "e69f7748",
   "metadata": {},
   "outputs": [],
   "source": [
    "import numpy as np\n",
    "import matplotlib.pyplot as plt\n"
   ]
  },
  {
   "cell_type": "code",
   "execution_count": 2,
   "id": "8594c5f3",
   "metadata": {},
   "outputs": [],
   "source": [
    "\n",
    "#샘플생성\n",
    "from keras.datasets import mnist\n",
    "(train_images, train_labels),(test_images, test_labels) = mnist.load_data()\n",
    "#이전까지의 X-trrain, y_train정도 형식"
   ]
  },
  {
   "cell_type": "code",
   "execution_count": 3,
   "id": "0a17b0d5",
   "metadata": {},
   "outputs": [
    {
     "data": {
      "text/plain": [
       "(60000, 28, 28)"
      ]
     },
     "execution_count": 3,
     "metadata": {},
     "output_type": "execute_result"
    }
   ],
   "source": [
    "train_images.shape #이미지의 수"
   ]
  },
  {
   "cell_type": "code",
   "execution_count": 4,
   "id": "bb4e3df4",
   "metadata": {},
   "outputs": [
    {
     "data": {
      "text/plain": [
       "(60000,)"
      ]
     },
     "execution_count": 4,
     "metadata": {},
     "output_type": "execute_result"
    }
   ],
   "source": [
    "train_labels.shape #이미지에 넘버링 한 갯수의 형태"
   ]
  },
  {
   "cell_type": "code",
   "execution_count": 5,
   "id": "e7a1a550",
   "metadata": {},
   "outputs": [
    {
     "data": {
      "text/plain": [
       "(10000, 28, 28)"
      ]
     },
     "execution_count": 5,
     "metadata": {},
     "output_type": "execute_result"
    }
   ],
   "source": [
    "test_images.shape #지정된 test데이터"
   ]
  },
  {
   "cell_type": "code",
   "execution_count": 6,
   "id": "15deef08",
   "metadata": {},
   "outputs": [
    {
     "data": {
      "text/plain": [
       "<matplotlib.image.AxesImage at 0x270dfa1c2b0>"
      ]
     },
     "execution_count": 6,
     "metadata": {},
     "output_type": "execute_result"
    },
    {
     "data": {
      "image/png": "[encoded data removed]",
      "text/plain": [
       "<Figure size 432x288 with 1 Axes>"
      ]
     },
     "metadata": {
      "needs_background": "light"
     },
     "output_type": "display_data"
    }
   ],
   "source": [
    "digit = train_images[4]\n",
    "\n",
    "plt.imshow(digit, cmap='gray')  #학습데이터 4번의 이미지확인"
   ]
  },
  {
   "cell_type": "code",
   "execution_count": 7,
   "id": "8e6970e3",
   "metadata": {},
   "outputs": [
    {
     "name": "stdout",
     "output_type": "stream",
     "text": [
      "9\n"
     ]
    }
   ],
   "source": [
    "print(train_labels[4]) #학습데이터중 4로 넘버링 된 데이터 출력"
   ]
  },
  {
   "cell_type": "code",
   "execution_count": 8,
   "id": "0c52c8a7",
   "metadata": {},
   "outputs": [],
   "source": [
    "from keras import models\n",
    "from keras import layers\n",
    "\n",
    "#신경망생성 순차적 진행명령 코드sequential()\n",
    "network = models.Sequential()\n",
    "#네트워크라는 변수로 저장\n",
    "network.add(layers.Dense(512, activation='relu', input_shape=(28 * 28,))) #인풋오타\n",
    "\n",
    "# add() 네트워크라는 변수에 신경망 추가\n",
    "##신경망추가명령 layers.Dense=덴스레이어추가(512=뉴런수,activation활성함수='relu', \n",
    "##이 활성함수로 들어오는 입력값=imput_shape= 입력모양=(28*28, 콤마= 한차원이 더있음을 알림)))\n",
    "\n",
    "network.add(layers.Dense(10, activation='softmax'))\n",
    "\n",
    "#activation='relu= d에서 시작하는 상승곡선 그래프\n",
    "#activation='softmax'1을기준으로 총합이 1이 되도록 각각의 확률을 계산하는 함수\n"
   ]
  },
  {
   "cell_type": "code",
   "execution_count": 9,
   "id": "52da06b8",
   "metadata": {},
   "outputs": [],
   "source": [
    "network.compile(optimizer='rmsprop',\n",
    "                loss='categorical_crossentropy',\n",
    "                metrics=['accuracy'])#네트워크, 컴파일, 쉼표 오탈자\n",
    "#네트워크 컴파일='신경망을 완성시킨다' 선언문\n",
    "#loss='categorical_crossentropy',=여러개중 진짜하나를 맞추는 확률을 출력"
   ]
  },
  {
   "cell_type": "code",
   "execution_count": 10,
   "id": "d78dcda9",
   "metadata": {},
   "outputs": [
    {
     "data": {
      "text/plain": [
       "(60000, 784)"
      ]
     },
     "execution_count": 10,
     "metadata": {},
     "output_type": "execute_result"
    }
   ],
   "source": [
    "#신경망에 맞게 이미지를 바꿔줌\n",
    "train_images = train_images.reshape(60000, 28 * 28 )\n",
    "#reshape=넘파이에서 자료의 구조를 바꿀때 사용 6만,28,28-> 6만,28*28 로 구조변경 셀을 784개 짜리의1차원이미지로 만듬 이 데이터가 6만개\n",
    "train_images.shape"
   ]
  },
  {
   "cell_type": "code",
   "execution_count": 11,
   "id": "2e477da9",
   "metadata": {},
   "outputs": [
    {
     "data": {
      "text/plain": [
       "array([[0, 0, 0, ..., 0, 0, 0],\n",
       "       [0, 0, 0, ..., 0, 0, 0],\n",
       "       [0, 0, 0, ..., 0, 0, 0],\n",
       "       ...,\n",
       "       [0, 0, 0, ..., 0, 0, 0],\n",
       "       [0, 0, 0, ..., 0, 0, 0],\n",
       "       [0, 0, 0, ..., 0, 0, 0]], dtype=uint8)"
      ]
     },
     "execution_count": 11,
     "metadata": {},
     "output_type": "execute_result"
    }
   ],
   "source": [
    "train_images"
   ]
  },
  {
   "cell_type": "code",
   "execution_count": 12,
   "id": "c59d97be",
   "metadata": {},
   "outputs": [],
   "source": [
    "# dtype=uint8=정수형데이터의 계산을 용이하게 하기 위해 실수형으로 바꿈\n",
    "train_images = train_images.astype('float32') / 255\n",
    "#astype=타입 바꾸는 명령어('float32'=실수형32비트)/255으로 나눔"
   ]
  },
  {
   "cell_type": "code",
   "execution_count": 13,
   "id": "e62fe266",
   "metadata": {},
   "outputs": [
    {
     "data": {
      "text/plain": [
       "array([[0., 0., 0., ..., 0., 0., 0.],\n",
       "       [0., 0., 0., ..., 0., 0., 0.],\n",
       "       [0., 0., 0., ..., 0., 0., 0.],\n",
       "       ...,\n",
       "       [0., 0., 0., ..., 0., 0., 0.],\n",
       "       [0., 0., 0., ..., 0., 0., 0.],\n",
       "       [0., 0., 0., ..., 0., 0., 0.]], dtype=float32)"
      ]
     },
     "execution_count": 13,
     "metadata": {},
     "output_type": "execute_result"
    }
   ],
   "source": [
    "train_images #바뀐타입 확인. 보통 딥러닝에서는 정수를 실수형으로 변형후 연산함"
   ]
  },
  {
   "cell_type": "code",
   "execution_count": 14,
   "id": "85852dcd",
   "metadata": {},
   "outputs": [],
   "source": [
    "test_images = test_images.reshape(10000,28*28)\n",
    " #테스트데이터가 만개밖에없으니 만개로 값을 넣음\n",
    "test_images = test_images.astype('float32') /255"
   ]
  },
  {
   "cell_type": "code",
   "execution_count": 15,
   "id": "edb39ca8",
   "metadata": {},
   "outputs": [],
   "source": [
    "#이미지 데이터의 '9'라는 것이 [숫자]가 아닌 [분류]라고 명확히 알려줘야함\n",
    "\n",
    "from tensorflow.keras.utils import to_categorical\n",
    "\n",
    "train_labels = to_categorical(train_labels)\n",
    "test_labels = to_categorical(test_labels)\n",
    "#데이터셋팅 끝. 신경망 만들었고 학습만 시키면됌\n",
    "#테스트 이미지 오류=원인: 위에서 test지정안함"
   ]
  },
  {
   "cell_type": "markdown",
   "id": "e7e34415",
   "metadata": {},
   "source": [
    "# *테스트라벨 에러=<p>\n",
    "트레인 이미지, 테스트 이미지 설정에서 오류로 추정됌.<p>\n",
    "에러발생시. 헤딩부분 점검필요"
   ]
  },
  {
   "cell_type": "code",
   "execution_count": 16,
   "id": "177e13eb",
   "metadata": {
    "scrolled": true
   },
   "outputs": [
    {
     "name": "stdout",
     "output_type": "stream",
     "text": [
      "Epoch 1/5\n",
      "469/469 [==============================] - 26s 52ms/step - loss: 0.2569 - accuracy: 0.9254\n",
      "Epoch 2/5\n",
      "469/469 [==============================] - 27s 58ms/step - loss: 0.1037 - accuracy: 0.9687\n",
      "Epoch 3/5\n",
      "469/469 [==============================] - 29s 62ms/step - loss: 0.0682 - accuracy: 0.9797\n",
      "Epoch 4/5\n",
      "469/469 [==============================] - 33s 71ms/step - loss: 0.0498 - accuracy: 0.9850\n",
      "Epoch 5/5\n",
      "469/469 [==============================] - 21s 46ms/step - loss: 0.0374 - accuracy: 0.9887\n"
     ]
    },
    {
     "data": {
      "text/plain": [
       "<keras.callbacks.History at 0x270df368f70>"
      ]
     },
     "execution_count": 16,
     "metadata": {},
     "output_type": "execute_result"
    }
   ],
   "source": [
    "network.fit(train_images, train_labels, epochs=5, batch_size=128)"
   ]
  },
  {
   "cell_type": "code",
   "execution_count": 17,
   "id": "c8daf5d6",
   "metadata": {},
   "outputs": [
    {
     "name": "stdout",
     "output_type": "stream",
     "text": [
      "313/313 [==============================] - 3s 8ms/step - loss: 0.0689 - accuracy: 0.9800\n"
     ]
    }
   ],
   "source": [
    "#결과해석= 에포크수만큼 학습돌림. 손실값이 점점 줄어듦. \n",
    "# #옵티마이저의rmsprop가 돌리면서 줄려줌\n",
    "# loss=분류에서 다수분류경우 카테고리컬크로스앤트로피를 가장 많이 사용, \n",
    "# 둘중하하나 바이너리_크로스앤트로피로 판별\n",
    "# in sckit_learn에서 둘중하나를 판별하는 알고리즘과 셋 이상을 판별하는 알고리즘이 다름\n",
    "\n",
    "#윗 결과 평가\n",
    "test_loss, test_acc = network.evaluate(test_images, test_labels) #lables 오타"
   ]
  },
  {
   "cell_type": "code",
   "execution_count": 18,
   "id": "6211ef6a",
   "metadata": {},
   "outputs": [
    {
     "name": "stdout",
     "output_type": "stream",
     "text": [
      "test_acc: 0.9800000190734863\n"
     ]
    }
   ],
   "source": [
    "print('test_acc:',test_acc)"
   ]
  },
  {
   "cell_type": "markdown",
   "id": "6942fee7",
   "metadata": {},
   "source": [
    "----------------------------------끝"
   ]
  }
 ],
 "metadata": {
  "kernelspec": {
   "display_name": "Python 3 (ipykernel)",
   "language": "python",
   "name": "python3"
  },
  "language_info": {
   "codemirror_mode": {
    "name": "ipython",
    "version": 3
   },
   "file_extension": ".py",
   "mimetype": "text/x-python",
   "name": "python",
   "nbconvert_exporter": "python",
   "pygments_lexer": "ipython3",
   "version": "3.9.7"
  }
 },
 "nbformat": 4,
 "nbformat_minor": 5
}
