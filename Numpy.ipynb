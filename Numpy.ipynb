{
 "cells": [
  {
   "cell_type": "markdown",
   "id": "0619c13e",
   "metadata": {},
   "source": [
    "# Numpy의 소개\n",
    "NumPy(Numerical Python)는 파이썬에서 과학적 계산을 위한 핵심 라이브러리이다. NumPy는 다차원 배열 객체와 배열과 함께 작동하는 도구들을 제공한다. 하지만 NumPy 자체로는 고수준의 데이터 분석 기능을 제공하지 않기 때문에 NumPy 배열과 배열 기반 컴퓨팅의 이해를 통해 pandas와 같은 도구를 좀 더 효율적으로 사용하는 것이 필요하다."
   ]
  },
  {
   "cell_type": "markdown",
   "id": "26b8014b",
   "metadata": {},
   "source": [
    "## nd array 생성\n",
    "array 함수를 사용하여 배열생성하기"
   ]
  },
  {
   "cell_type": "code",
   "execution_count": 1,
   "id": "233244f5",
   "metadata": {},
   "outputs": [],
   "source": [
    "import numpy as np #numpy를 줄여서 np로 부를게(aliance)"
   ]
  },
  {
   "cell_type": "code",
   "execution_count": 2,
   "id": "38e92212",
   "metadata": {},
   "outputs": [],
   "source": [
    "# ndarray 생성\n",
    "arr=np.array([1,2,3,4])#파이썬에서  li 데이터타입"
   ]
  },
  {
   "cell_type": "code",
   "execution_count": 3,
   "id": "d7dabcfc",
   "metadata": {},
   "outputs": [
    {
     "name": "stdout",
     "output_type": "stream",
     "text": [
      "[1 2 3 4]\n"
     ]
    }
   ],
   "source": [
    "print(arr)"
   ]
  },
  {
   "cell_type": "markdown",
   "id": "f9726038",
   "metadata": {},
   "source": [
    "위 결과를 봐서는 배열인지 리스트인지 알수 없으니 프린트 된 요소가 궁금하면 타입을 써보면 됨"
   ]
  },
  {
   "cell_type": "code",
   "execution_count": 4,
   "id": "b0a5999c",
   "metadata": {},
   "outputs": [
    {
     "data": {
      "text/plain": [
       "numpy.ndarray"
      ]
     },
     "execution_count": 4,
     "metadata": {},
     "output_type": "execute_result"
    }
   ],
   "source": [
    "type(arr)"
   ]
  },
  {
   "cell_type": "markdown",
   "id": "68514066",
   "metadata": {},
   "source": [
    "np.zeros((3,3)) =메모리를 0으로 만드는 초기화 작업<p>\n",
    "예) 원룸입주시 이전 거주자가 집을 비워서 나가는것<p> 데이터 처리에 할당된 메모리가 이미 이전에 누군가가 썼던 메모리(공간)의 데이터들을 비워내고 내 데이터를 넣어 처리하기 위한 선행작업\n",
    "(이 작업을 무시하면 내 데이터가 이전 데이터때문에 결과값에 영향미침)<p>\n",
    "    필요에 따라 0 이아닌 1로 초기화 해야하면 np.ones((3,3))형식으로 씀   <p>\n",
    "* 숫자 뒤 . 의 의미= [정수]임을 표시\n",
    "      "
   ]
  },
  {
   "cell_type": "markdown",
   "id": "c403dc8e",
   "metadata": {},
   "source": [
    "* 0과 null의 차이<p>\n",
    "0=계산가능<p>\n",
    "null=계산불가"
   ]
  },
  {
   "cell_type": "code",
   "execution_count": 5,
   "id": "0aac9c5b",
   "metadata": {},
   "outputs": [
    {
     "data": {
      "text/plain": [
       "array([[0., 0., 0.],\n",
       "       [0., 0., 0.],\n",
       "       [0., 0., 0.]])"
      ]
     },
     "execution_count": 5,
     "metadata": {},
     "output_type": "execute_result"
    }
   ],
   "source": [
    "np.zeros((3,3)) "
   ]
  },
  {
   "cell_type": "code",
   "execution_count": 6,
   "id": "d0c3638c",
   "metadata": {},
   "outputs": [
    {
     "data": {
      "text/plain": [
       "array([[1., 1., 1.],\n",
       "       [1., 1., 1.],\n",
       "       [1., 1., 1.]])"
      ]
     },
     "execution_count": 6,
     "metadata": {},
     "output_type": "execute_result"
    }
   ],
   "source": [
    "np.ones((3,3))"
   ]
  },
  {
   "cell_type": "code",
   "execution_count": 7,
   "id": "6e67cdd7",
   "metadata": {
    "scrolled": true
   },
   "outputs": [
    {
     "data": {
      "text/plain": [
       "array([[6.23042070e-307, 4.67296746e-307, 1.69121096e-306,\n",
       "        1.29061074e-306],\n",
       "       [7.56587585e-307, 1.37961302e-306, 1.05699242e-307,\n",
       "        8.01097889e-307],\n",
       "       [1.78020169e-306, 7.56601165e-307, 1.02359984e-306,\n",
       "        1.33510679e-306],\n",
       "       [2.22522597e-306, 1.24611674e-306, 1.29061821e-306,\n",
       "        6.23057349e-307]])"
      ]
     },
     "execution_count": 7,
     "metadata": {},
     "output_type": "execute_result"
    }
   ],
   "source": [
    "np.empty((4,4)) #아무런 정수값없이 배열만 필요할때 씀. 괄호안에 값이 이전에 사용된 데이터"
   ]
  },
  {
   "cell_type": "code",
   "execution_count": 8,
   "id": "52f781c6",
   "metadata": {},
   "outputs": [
    {
     "data": {
      "text/plain": [
       "array([0, 1, 2, 3, 4, 5, 6, 7, 8, 9])"
      ]
     },
     "execution_count": 8,
     "metadata": {},
     "output_type": "execute_result"
    }
   ],
   "source": [
    "np.arange(10) #명령어 어렌지=범위표현  출력값[0,1,2,3,4,5,6,7,8,9]"
   ]
  },
  {
   "cell_type": "markdown",
   "id": "9f3d1e83",
   "metadata": {},
   "source": [
    "### ndarray 배열의 모양, 차수, 데이터 타입 확인하기"
   ]
  },
  {
   "cell_type": "code",
   "execution_count": 10,
   "id": "0bc13480",
   "metadata": {},
   "outputs": [],
   "source": [
    "arr = np.array([[1,2,3],[4,5,6]]) "
   ]
  },
  {
   "cell_type": "code",
   "execution_count": 11,
   "id": "061b55ae",
   "metadata": {},
   "outputs": [
    {
     "name": "stdout",
     "output_type": "stream",
     "text": [
      "[[1 2 3]\n",
      " [4 5 6]]\n"
     ]
    }
   ],
   "source": [
    "print(arr)"
   ]
  },
  {
   "cell_type": "code",
   "execution_count": 12,
   "id": "47e529ce",
   "metadata": {},
   "outputs": [
    {
     "data": {
      "text/plain": [
       "(2, 3)"
      ]
     },
     "execution_count": 12,
     "metadata": {},
     "output_type": "execute_result"
    }
   ],
   "source": [
    "arr.shape"
   ]
  },
  {
   "cell_type": "markdown",
   "id": "7f69c28f",
   "metadata": {},
   "source": [
    "(2, 3)의 해석= 2개의 열, 각 열당 3개의 값 배열 따라서 이 배열은 2차원"
   ]
  },
  {
   "cell_type": "code",
   "execution_count": 13,
   "id": "09633964",
   "metadata": {},
   "outputs": [
    {
     "data": {
      "text/plain": [
       "2"
      ]
     },
     "execution_count": 13,
     "metadata": {},
     "output_type": "execute_result"
    }
   ],
   "source": [
    "arr.ndim #이 배열은 몇차원ndim인가요?"
   ]
  },
  {
   "cell_type": "code",
   "execution_count": 14,
   "id": "19f7d9c8",
   "metadata": {},
   "outputs": [
    {
     "data": {
      "text/plain": [
       "dtype('int32')"
      ]
     },
     "execution_count": 14,
     "metadata": {},
     "output_type": "execute_result"
    }
   ],
   "source": [
    "arr.dtype #이배열의 데이터타입은?"
   ]
  },
  {
   "cell_type": "markdown",
   "id": "18ae7259",
   "metadata": {},
   "source": [
    "=32bit환경에서 실행된 데이터이다"
   ]
  },
  {
   "cell_type": "code",
   "execution_count": 15,
   "id": "ed74db77",
   "metadata": {},
   "outputs": [],
   "source": [
    "arr_float=arr.astype(np.float64) #astype=형태를 바꾸다 ()"
   ]
  },
  {
   "cell_type": "code",
   "execution_count": 16,
   "id": "fdbc34d6",
   "metadata": {},
   "outputs": [
    {
     "name": "stdout",
     "output_type": "stream",
     "text": [
      "[[1. 2. 3.]\n",
      " [4. 5. 6.]]\n"
     ]
    }
   ],
   "source": [
    "print(arr_float)"
   ]
  },
  {
   "cell_type": "code",
   "execution_count": 17,
   "id": "e528693a",
   "metadata": {},
   "outputs": [
    {
     "data": {
      "text/plain": [
       "dtype('float64')"
      ]
     },
     "execution_count": 17,
     "metadata": {},
     "output_type": "execute_result"
    }
   ],
   "source": [
    "arr_float.dtype #float64=정수타입->실수타입으로 바꾼것. "
   ]
  },
  {
   "cell_type": "markdown",
   "id": "647c5d85",
   "metadata": {},
   "source": [
    "수 데이터타입 numpy 1-5  파일 참조"
   ]
  },
  {
   "cell_type": "code",
   "execution_count": 21,
   "id": "8b5c6d87",
   "metadata": {},
   "outputs": [
    {
     "name": "stdout",
     "output_type": "stream",
     "text": [
      "[[ 6  8]\n",
      " [10 12]]\n"
     ]
    }
   ],
   "source": [
    "arr1=np.array([[1,2],[3,4]])\n",
    "arr2=np.array([[5,6],[7,8]])\n",
    "\n",
    "#arr3=arr1+arr2\n",
    "arr3=np.add(arr1,arr2) # 위 행 수식과 같은 값도출\n",
    "\n",
    "#사칙연산 모두 가능\n",
    "#arr3=arr1*arr2\n",
    "#arr3=np.multiply(arr1,arr2)\n",
    "print(arr3)"
   ]
  },
  {
   "cell_type": "markdown",
   "id": "e6a25b79",
   "metadata": {},
   "source": [
    "Numpy 배열의 연산은 연산자 (+,-,*,/)나 함수(add, subtract, multiply, divide)로 가능하다."
   ]
  },
  {
   "cell_type": "markdown",
   "id": "8035851e",
   "metadata": {},
   "source": [
    "### ★★★★★ndarray 배열 슬라이싱 하기 \n",
    "\n",
    "ndarray 배열 슬라이싱 하기\n",
    "슬라이싱=전체배열에서 내가 원하는 만큼만 잘라서 불러오는 것"
   ]
  },
  {
   "cell_type": "code",
   "execution_count": 24,
   "id": "c9a0db86",
   "metadata": {},
   "outputs": [],
   "source": [
    "#배열슬라이싱\n",
    "arr=np.array([[1,2,3],[4,5,6],[7,8,9]])"
   ]
  },
  {
   "cell_type": "code",
   "execution_count": 27,
   "id": "860c1126",
   "metadata": {},
   "outputs": [
    {
     "name": "stdout",
     "output_type": "stream",
     "text": [
      "[[2 3]\n",
      " [5 6]]\n"
     ]
    }
   ],
   "source": [
    "arr_1=arr[:2,1:3]  #[:2,=행 시작부터 2까지 가져옴 1:3=열 행에서 1~3이전까지의 수를 가져옴 ]\n",
    "print(arr_1)"
   ]
  },
  {
   "cell_type": "code",
   "execution_count": 26,
   "id": "e11832c1",
   "metadata": {},
   "outputs": [
    {
     "data": {
      "text/plain": [
       "(3, 3)"
      ]
     },
     "execution_count": 26,
     "metadata": {},
     "output_type": "execute_result"
    }
   ],
   "source": [
    "arr.shape"
   ]
  },
  {
   "cell_type": "code",
   "execution_count": 28,
   "id": "32d10429",
   "metadata": {},
   "outputs": [
    {
     "name": "stdout",
     "output_type": "stream",
     "text": [
      "[0 1 2 3 4 5 6 7 8 9]\n"
     ]
    }
   ],
   "source": [
    "arr_int=np.arange(10) #기본배열\n",
    "print(arr_int)"
   ]
  },
  {
   "cell_type": "code",
   "execution_count": 29,
   "id": "ceac5257",
   "metadata": {},
   "outputs": [
    {
     "name": "stdout",
     "output_type": "stream",
     "text": [
      "[0 1 2 3 4]\n"
     ]
    }
   ],
   "source": [
    "arr_int=np.arange(10) #슬라이싱 1\n",
    "print(arr_int[:5])"
   ]
  },
  {
   "cell_type": "code",
   "execution_count": 30,
   "id": "096cf06f",
   "metadata": {},
   "outputs": [
    {
     "name": "stdout",
     "output_type": "stream",
     "text": [
      "[5 6 7 8 9]\n"
     ]
    }
   ],
   "source": [
    "arr_int=np.arange(10) #슬라이싱 2\n",
    "print(arr_int[5:])"
   ]
  },
  {
   "cell_type": "code",
   "execution_count": 31,
   "id": "c355253f",
   "metadata": {},
   "outputs": [
    {
     "name": "stdout",
     "output_type": "stream",
     "text": [
      "[0 1 2 3 4 5 6 7]\n"
     ]
    }
   ],
   "source": [
    "arr_int=np.arange(10)#슬라이싱 3\n",
    "print(arr_int[0:8])"
   ]
  },
  {
   "cell_type": "code",
   "execution_count": 32,
   "id": "5c9ce4e6",
   "metadata": {},
   "outputs": [
    {
     "name": "stdout",
     "output_type": "stream",
     "text": [
      "[0 2 4 6]\n"
     ]
    }
   ],
   "source": [
    "arr_int=np.arange(10)#슬라이싱 4\n",
    "print(arr_int[0:8:2]) #[스타팅포인트:엔드포인트:스텝(증가단위)]"
   ]
  },
  {
   "cell_type": "code",
   "execution_count": 34,
   "id": "70103fa2",
   "metadata": {},
   "outputs": [
    {
     "name": "stdout",
     "output_type": "stream",
     "text": [
      "3\n"
     ]
    }
   ],
   "source": [
    "print(arr[0,2]) #[0=행,2=지정행의 2번째 자리 데이터])"
   ]
  },
  {
   "cell_type": "code",
   "execution_count": 37,
   "id": "49174951",
   "metadata": {},
   "outputs": [],
   "source": [
    "arr=np.array([[1,2,3],[4,5,6]]) #새로운 배열정립"
   ]
  },
  {
   "cell_type": "code",
   "execution_count": 39,
   "id": "ad0853f7",
   "metadata": {},
   "outputs": [
    {
     "name": "stdout",
     "output_type": "stream",
     "text": [
      "[[False False False]\n",
      " [ True  True  True]]\n"
     ]
    }
   ],
   "source": [
    "idx=arr>3 #배열에서 3보다 큰것을 idx로 담아라\n",
    "print(idx)"
   ]
  },
  {
   "cell_type": "code",
   "execution_count": 40,
   "id": "c55b20a2",
   "metadata": {},
   "outputs": [
    {
     "name": "stdout",
     "output_type": "stream",
     "text": [
      "[4 5 6]\n"
     ]
    }
   ],
   "source": [
    "print(arr[idx])"
   ]
  },
  {
   "cell_type": "markdown",
   "id": "3a22903b",
   "metadata": {},
   "source": [
    "# Wine Quality"
   ]
  },
  {
   "cell_type": "code",
   "execution_count": 42,
   "id": "c39cad6f",
   "metadata": {},
   "outputs": [],
   "source": [
    "redwine=np.loadtxt(fname='samples/winequality-red.csv',delimiter=';',skiprows=1) \n",
    "#loadtxt=넘파이이로 로드한다 . fname=파일명   . 항목간 구별은 ;로 한다. 원본데이터의 첫째줄은 건너띈다\n"
   ]
  },
  {
   "cell_type": "code",
   "execution_count": 43,
   "id": "48851898",
   "metadata": {},
   "outputs": [
    {
     "name": "stdout",
     "output_type": "stream",
     "text": [
      "[[ 7.4    0.7    0.    ...  0.56   9.4    5.   ]\n",
      " [ 7.8    0.88   0.    ...  0.68   9.8    5.   ]\n",
      " [ 7.8    0.76   0.04  ...  0.65   9.8    5.   ]\n",
      " ...\n",
      " [ 6.3    0.51   0.13  ...  0.75  11.     6.   ]\n",
      " [ 5.9    0.645  0.12  ...  0.71  10.2    5.   ]\n",
      " [ 6.     0.31   0.47  ...  0.66  11.     6.   ]]\n"
     ]
    }
   ],
   "source": [
    "print(redwine)"
   ]
  },
  {
   "cell_type": "code",
   "execution_count": 44,
   "id": "703fcab6",
   "metadata": {},
   "outputs": [
    {
     "data": {
      "text/plain": [
       "(1599, 12)"
      ]
     },
     "execution_count": 44,
     "metadata": {},
     "output_type": "execute_result"
    }
   ],
   "source": [
    "redwine.shape #새로운데이터 생성시 모양확인하는 습관들이는게 좋음"
   ]
  },
  {
   "cell_type": "markdown",
   "id": "0886e3d1",
   "metadata": {},
   "source": [
    "해석 =( 전체데이터=1599, 컬럼 개수=12) "
   ]
  },
  {
   "cell_type": "code",
   "execution_count": 45,
   "id": "0b9a1b0b",
   "metadata": {},
   "outputs": [
    {
     "data": {
      "text/plain": [
       "numpy.ndarray"
      ]
     },
     "execution_count": 45,
     "metadata": {},
     "output_type": "execute_result"
    }
   ],
   "source": [
    "type(redwine)"
   ]
  },
  {
   "cell_type": "code",
   "execution_count": 46,
   "id": "c8075345",
   "metadata": {},
   "outputs": [
    {
     "name": "stdout",
     "output_type": "stream",
     "text": [
      "152084.78194\n"
     ]
    }
   ],
   "source": [
    "print(redwine.sum()) #전체합계"
   ]
  },
  {
   "cell_type": "code",
   "execution_count": 47,
   "id": "39fc1305",
   "metadata": {},
   "outputs": [
    {
     "name": "stdout",
     "output_type": "stream",
     "text": [
      "7.926036165311652\n"
     ]
    }
   ],
   "source": [
    "print(redwine.mean())  #전체평균"
   ]
  },
  {
   "cell_type": "code",
   "execution_count": 48,
   "id": "51d1aa90",
   "metadata": {},
   "outputs": [
    {
     "name": "stdout",
     "output_type": "stream",
     "text": [
      "[ 8.31963727  0.52782051  0.27097561  2.5388055   0.08746654 15.87492183\n",
      " 46.46779237  0.99674668  3.3111132   0.65814884 10.42298311  5.63602251]\n"
     ]
    }
   ],
   "source": [
    "print(redwine.mean(axis=0)) # 데이터의 기준 축순서 가로=1 세로는 1. 따라서 가로(열=컬럼)들의 평균을 묻는 명령어"
   ]
  },
  {
   "cell_type": "code",
   "execution_count": 50,
   "id": "378e5e2e",
   "metadata": {},
   "outputs": [
    {
     "name": "stdout",
     "output_type": "stream",
     "text": [
      "8.31963727329581\n"
     ]
    }
   ],
   "source": [
    "print(redwine[:,0].mean()) # [: = 전체데이터 선택,0=이중의 세로축 첫번째컬럼].mean() 평균"
   ]
  },
  {
   "cell_type": "markdown",
   "id": "ad7d7716",
   "metadata": {},
   "source": [
    "위의 코드에서 연산자명령어만 바꾸면 그대로 연산실행\n",
    "numpy 끝-"
   ]
  },
  {
   "cell_type": "code",
   "execution_count": null,
   "id": "feb0f4ff",
   "metadata": {},
   "outputs": [],
   "source": []
  }
 ],
 "metadata": {
  "kernelspec": {
   "display_name": "Python 3 (ipykernel)",
   "language": "python",
   "name": "python3"
  },
  "language_info": {
   "codemirror_mode": {
    "name": "ipython",
    "version": 3
   },
   "file_extension": ".py",
   "mimetype": "text/x-python",
   "name": "python",
   "nbconvert_exporter": "python",
   "pygments_lexer": "ipython3",
   "version": "3.9.7"
  }
 },
 "nbformat": 4,
 "nbformat_minor": 5
}
